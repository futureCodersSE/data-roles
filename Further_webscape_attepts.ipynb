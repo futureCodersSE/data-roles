{
  "nbformat": 4,
  "nbformat_minor": 0,
  "metadata": {
    "colab": {
      "provenance": [],
      "collapsed_sections": [],
      "authorship_tag": "ABX9TyMWwuuq71lKKRL6ruiG8aUp",
      "include_colab_link": true
    },
    "kernelspec": {
      "name": "python3",
      "display_name": "Python 3"
    },
    "language_info": {
      "name": "python"
    }
  },
  "cells": [
    {
      "cell_type": "markdown",
      "metadata": {
        "id": "view-in-github",
        "colab_type": "text"
      },
      "source": [
        "<a href=\"https://colab.research.google.com/github/futureCodersSE/data-roles/blob/main/Further_webscape_attepts.ipynb\" target=\"_parent\"><img src=\"https://colab.research.google.com/assets/colab-badge.svg\" alt=\"Open In Colab\"/></a>"
      ]
    },
    {
      "cell_type": "code",
      "execution_count": 42,
      "metadata": {
        "id": "3yL2XikS8Aq9"
      },
      "outputs": [],
      "source": [
        "from bs4 import BeautifulSoup\n",
        "import requests\n",
        "import pandas as pd\n",
        "import numpy as np\n",
        "\n",
        "\n",
        "\n",
        "reed_url = \"https://www.reed.co.uk/jobs/data-jobs-in-ashford-kent?proximity=30\" #no issuse\n",
        "jobserve_url = \"https://jobserve.com/gb/en/JobSearch.aspx?shid=6FB7799DA8CABA154614&lid=61757\" #js packet inside website\n",
        "cwjobs_url = \"https://www.cwjobs.co.uk/jobs/data/in-kent?radius=10&searchOrigin=Resultlist_top-search\" #\"Challenge Validation\"\n",
        "totaljobs_url = \"https://www.totaljobs.com/jobs/data/in-kent?radius=10\" #\"Challenge Validation\"\n",
        "def get_html(url):\n",
        "  agent = {\"User-Agent\":\"Chrome/106.0.0.0\"}\n",
        "  page = requests.get(url,headers=agent)\n",
        "  print(page.status_code)\n",
        "  soup = BeautifulSoup(page.content, 'html.parser')\n",
        "  return soup\n",
        "\n",
        "\n"
      ]
    },
    {
      "cell_type": "code",
      "source": [
        "def jobserve_jobs(url):\n",
        "  page_html = get_html(url)\n",
        "  results = page_html.find(id=\"contentframe\") #(class_=\"ui-layout-centre ccUni toolsBorder ui-layout-pane ui-layout-pane-center ui-layout-container\")\n",
        "\n",
        "  panel = results.find(id=\"westpanel\")\n",
        "  test = panel.find(id=\"jsJobResContent\")\n",
        "  all_jobs = panel.find(class_=\"jobItem\")\n",
        "  print(test.prettify())\n",
        "\n",
        "jobserve_jobs(jobserve_url)\n",
        "\n"
      ],
      "metadata": {
        "colab": {
          "base_uri": "https://localhost:8080/"
        },
        "id": "UdV6Exn55G6L",
        "outputId": "8d973726-f648-48ae-c8ab-eacf047ac874"
      },
      "execution_count": 43,
      "outputs": [
        {
          "output_type": "stream",
          "name": "stdout",
          "text": [
            "200\n",
            "<div class=\"jsCustomScrollContent\" id=\"jsJobResContent\">\n",
            " <div class=\"nextJobs\" id=\"nextJobs\">\n",
            "  Loading\n",
            " </div>\n",
            "</div>\n",
            "\n"
          ]
        }
      ]
    },
    {
      "cell_type": "code",
      "source": [
        "def cw_jobs(url):\n",
        "  page_html = get_html(url)\n",
        "  print(page_html.text)\n",
        "cw_jobs(cwjobs_url)\n"
      ],
      "metadata": {
        "colab": {
          "base_uri": "https://localhost:8080/"
        },
        "id": "9w3vOFSb8yTW",
        "outputId": "c83d9b7a-824b-4492-bed5-6d8f10eae565"
      },
      "execution_count": 44,
      "outputs": [
        {
          "output_type": "stream",
          "name": "stdout",
          "text": [
            "200\n",
            "\n",
            "\n",
            "\n",
            "\n",
            "\n",
            "\n",
            "Challenge Validation\n",
            "\n",
            "function cp_clge_done(){location.reload(true);}\n",
            "\n",
            "sessionStorage.setItem('data-duration', 5);\n",
            "\n",
            "\n",
            "\n",
            "\n",
            "\n",
            "\n",
            "\n",
            "\n",
            "\n",
            "\n",
            "\n"
          ]
        }
      ]
    },
    {
      "cell_type": "code",
      "source": [
        "def total_jobs(url):\n",
        "  page_html = get_html(url)\n",
        "  print(page_html.text)\n",
        "total_jobs(totaljobs_url)"
      ],
      "metadata": {
        "colab": {
          "base_uri": "https://localhost:8080/"
        },
        "id": "vQy4hpasc87g",
        "outputId": "9bb74380-6ef7-40f2-8e11-fd1734b940d4"
      },
      "execution_count": 45,
      "outputs": [
        {
          "output_type": "stream",
          "name": "stdout",
          "text": [
            "200\n",
            "\n",
            "\n",
            "\n",
            "\n",
            "\n",
            "\n",
            "Challenge Validation\n",
            "\n",
            "function cp_clge_done(){location.reload(true);}\n",
            "\n",
            "sessionStorage.setItem('data-duration', 5);\n",
            "\n",
            "\n",
            "\n",
            "\n",
            "\n",
            "\n",
            "\n",
            "\n",
            "\n",
            "\n",
            "\n"
          ]
        }
      ]
    }
  ]
}