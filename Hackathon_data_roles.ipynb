{
  "nbformat": 4,
  "nbformat_minor": 0,
  "metadata": {
    "colab": {
      "provenance": [],
      "collapsed_sections": [],
      "include_colab_link": true
    },
    "kernelspec": {
      "name": "python3",
      "display_name": "Python 3"
    },
    "language_info": {
      "name": "python"
    }
  },
  "cells": [
    {
      "cell_type": "markdown",
      "metadata": {
        "id": "view-in-github",
        "colab_type": "text"
      },
      "source": [
        "<a href=\"https://colab.research.google.com/github/futureCodersSE/data-roles/blob/main/Hackathon_data_roles.ipynb\" target=\"_parent\"><img src=\"https://colab.research.google.com/assets/colab-badge.svg\" alt=\"Open In Colab\"/></a>"
      ]
    },
    {
      "cell_type": "markdown",
      "source": [
        "#FutureCoders Data Roles Hackathon"
      ],
      "metadata": {
        "id": "YsFeYnIEUZqr"
      }
    },
    {
      "cell_type": "markdown",
      "source": [
        "Importing all the required libraries used within this script."
      ],
      "metadata": {
        "id": "LPo-pPGJUZia"
      }
    },
    {
      "cell_type": "code",
      "execution_count": 65,
      "metadata": {
        "id": "g8tApQX8uet2"
      },
      "outputs": [],
      "source": [
        "#web scrapping libraries\n",
        "from bs4 import BeautifulSoup\n",
        "import requests\n",
        "\n",
        "#data manipulation/presentation libraries\n",
        "import numpy as np\n",
        "import pandas as pd\n",
        "pd.options.mode.chained_assignment = None  # default='warn'  ##<- this is really annoying, I WANT to copy the DF.\n",
        "import datetime\n",
        "from math import floor, log10\n",
        "\n",
        "#Google libraries for uploading and saving documnets\n",
        "from google.colab import files\n",
        "from google.colab import drive"
      ]
    },
    {
      "cell_type": "markdown",
      "source": [
        "These are the URLs for the job searches for Reed.co.uk.\n",
        "\n",
        "For Reed, the search parameters are: Data jobs within 50 miles of Glasgow,\n",
        "https://www.reed.co.uk/jobs/data-jobs-in-glasgow?proximity=50"
      ],
      "metadata": {
        "id": "vyw_-MCYWmna"
      }
    },
    {
      "cell_type": "markdown",
      "source": [
        "You can register for a reed API key very easily at this address: https://www.reed.co.uk/developers/Jobseeker. Copy the key into the input box below."
      ],
      "metadata": {
        "id": "S_N9CgOxnEsT"
      }
    },
    {
      "cell_type": "code",
      "source": [
        "reed_url = \"https://www.reed.co.uk/jobs/data-jobs-in-glasgow?&proximity=50\"\n",
        "\n",
        "reed_api_key = input(\"Enter your Reed API Key: \") "
      ],
      "metadata": {
        "colab": {
          "base_uri": "https://localhost:8080/"
        },
        "id": "qfw6E00Auoo-",
        "outputId": "a7d3547e-a282-48b0-8cde-26a8109a0bba"
      },
      "execution_count": 78,
      "outputs": [
        {
          "name": "stdout",
          "output_type": "stream",
          "text": [
            "Enter your Reed API Key: \n"
          ]
        }
      ]
    },
    {
      "cell_type": "markdown",
      "source": [
        "This is a general function that is used multiple times in each search."
      ],
      "metadata": {
        "id": "hmvhUlNHXs_0"
      }
    },
    {
      "cell_type": "code",
      "source": [
        "#returns the full HTML of a page.\n",
        "def get_html(url):\n",
        "    page = requests.get(url)\n",
        "    soup = BeautifulSoup(page.content, 'html.parser')\n",
        "    return soup"
      ],
      "metadata": {
        "id": "va7VLwZouomc"
      },
      "execution_count": 67,
      "outputs": []
    },
    {
      "cell_type": "markdown",
      "source": [
        "##Reed Job Search\n",
        "---"
      ],
      "metadata": {
        "id": "mCYsgY2RuwiF"
      }
    },
    {
      "cell_type": "markdown",
      "source": [
        "This function returns an array of job IDs found on the web page that is passed as an argument.  "
      ],
      "metadata": {
        "id": "4x4bQdRuX5rs"
      }
    },
    {
      "cell_type": "code",
      "source": [
        "def reed_jobs_iterate(page_url):\n",
        "  site_html = get_html(page_url)\n",
        "  results = site_html.find(class_=\"col-sm-8 col-md-9 results-container\")\n",
        "\n",
        "  id_list = np.array([])\n",
        "  job_cards = results.find_all(class_=\"job-result-card\")\n",
        "\n",
        "  for job in job_cards: #finds the jobs, gets it's ID, returns the id\n",
        "      job_id = int(job[\"id\"].split(\"jobSection\")[1]) #jobSection48529572 ect...\n",
        "      \n",
        "      id_list = np.append(id_list,[job_id])\n",
        "  return id_list"
      ],
      "metadata": {
        "id": "6_ETvxJcuoj9"
      },
      "execution_count": 68,
      "outputs": []
    },
    {
      "cell_type": "markdown",
      "source": [
        "This funtion finds information about the total amount of jobs found by the search and cleans up that information so it is usable."
      ],
      "metadata": {
        "id": "aSesSFrnYWO3"
      }
    },
    {
      "cell_type": "code",
      "source": [
        "def find_reed_total_jobs(site_html,max_job_call):\n",
        "  max_page_requests = int(max_job_call/25) \n",
        "\n",
        "  ###\n",
        "  total_jobs_text = site_html.find(class_=\"col-sm-11 col-xs-12 page-title\").text # '\\n' '\\r' '\\n' x,xxx\\r\\n  Data Jobs near Ashford       '\\n'....\n",
        "  total_jobs_text = total_jobs_text.replace(\"\\n\",\"\").replace(\"\\r\",\"\").replace(\",\",\"\") #          xxxx         Data Jobs near Ashford       .       \n",
        "\n",
        "  total_jobs = int(total_jobs_text.split(\"Data\")[0].strip(\" \"))\n",
        "  total_pages_found = int(np.ceil(total_jobs/25))\n",
        "\n",
        "  #limits the requests to only 2000\n",
        "  if total_pages_found > max_page_requests:\n",
        "    total_pages_search = max_page_requests\n",
        "  else:\n",
        "    total_pages_search = total_pages_found\n",
        "\n",
        "\n",
        "  return total_jobs, total_pages_found, total_pages_search"
      ],
      "metadata": {
        "id": "9fJw_EBiuohV"
      },
      "execution_count": 69,
      "outputs": []
    },
    {
      "cell_type": "markdown",
      "source": [
        "This is the Main function. It scapes the site once to find the total jobs in the search, then builds the required URLs for each page and passes them to the job finding funcion."
      ],
      "metadata": {
        "id": "uGaRfs8LY307"
      }
    },
    {
      "cell_type": "code",
      "source": [
        "def reed_scrape(base_url,max_job_call):\n",
        "  soup = get_html(base_url)\n",
        "  total_id_list = np.array([],dtype=int)\n",
        "\n",
        "  #finds out how many more pages to scrape\n",
        "  total_jobs,total_pages_found , total_pages_search = find_reed_total_jobs(soup,max_job_call)\n",
        "\n",
        "  print(\"total jobs found: \", total_jobs)\n",
        "  print(\"total pages found: \", total_pages_found)\n",
        "  print(\"pages to search: \",total_pages_search)\n",
        "\n",
        "  #scarping pages in range [1,x] not pages in range [1,x[\n",
        "  for page_no in np.arange(1,total_pages_search+1): \n",
        "    page_url = base_url+\"&pageno=\"+str(page_no)\n",
        "    page_id_list = reed_jobs_iterate(page_url)\n",
        "    total_id_list = np.append(total_id_list,[page_id_list])\n",
        "\n",
        "    #user feedback\n",
        "    print(\"page \",page_no, \" processed\")\n",
        "  return total_id_list"
      ],
      "metadata": {
        "id": "aN-00Gq9uofN"
      },
      "execution_count": 70,
      "outputs": []
    },
    {
      "cell_type": "markdown",
      "source": [
        "This function takes the generated list of job IDs and uses the Reed API to retrive all of the information about that job."
      ],
      "metadata": {
        "id": "LS9tT4FDZXNP"
      }
    },
    {
      "cell_type": "code",
      "source": [
        "def call_reed_api(id_list,reed_api_key):\n",
        "  base_url = \"https://www.reed.co.uk/api/1.0/jobs/\"\n",
        "  api_url = \"\"\n",
        "  job_df = pd.DataFrame()\n",
        "\n",
        "  #user feedback\n",
        "  print(\"\\nRetriving job information...\")\n",
        "\n",
        "  unique_id_list = np.unique(id_list)\n",
        "\n",
        "  for job_id in unique_id_list:\n",
        "    #index_\n",
        "    if np.where(unique_id_list == job_id)[0][0] % 100 == 0:\n",
        "      #user feedback\n",
        "      print(\"The \",np.where(unique_id_list == job_id)[0][0], \"'th ID has been processed\")\n",
        "\n",
        "    api_url = base_url+str(job_id)\n",
        "    post_request = requests.get(api_url, auth=(reed_api_key,\"\"))\n",
        "    json_data = post_request.json()\n",
        "\n",
        "    new_row = pd.json_normalize(json_data)\n",
        "    job_df = job_df.append(new_row,ignore_index=True)\n",
        "  return job_df"
      ],
      "metadata": {
        "id": "8sLMOVX_uobo"
      },
      "execution_count": 71,
      "outputs": []
    },
    {
      "cell_type": "markdown",
      "source": [
        "Calls previous functions in order.   \n",
        "NB. This function can take anywhere from 5-10 minutes to fully run based on the max number of results you have specified (currently 1000)"
      ],
      "metadata": {
        "id": "4T8YCGaoZ2n0"
      }
    },
    {
      "cell_type": "code",
      "source": [
        "def main():\n",
        "  max_job_call = 1000 #reed has a limit of 2000 job search api calls per hour.\n",
        "  reed_id_list = reed_scrape(reed_url,max_job_call)\n",
        "  reed_id_list = reed_id_list.astype(\"int\") #it really didnt want to save the array as an int\n",
        "\n",
        "  full_reed_df = call_reed_api(reed_id_list, reed_api_key)\n",
        "  \n",
        "  return full_reed_df\n",
        "\n",
        "full_reed_df = main()\n",
        "display(full_reed_df.info())"
      ],
      "metadata": {
        "colab": {
          "base_uri": "https://localhost:8080/",
          "height": 1000
        },
        "id": "hUtkNct2uoT8",
        "outputId": "18d41807-89df-4621-ed26-858b21979899"
      },
      "execution_count": 72,
      "outputs": [
        {
          "output_type": "stream",
          "name": "stdout",
          "text": [
            "total jobs found:  998\n",
            "total pages found:  40\n",
            "pages to search:  40\n",
            "page  1  processed\n",
            "page  2  processed\n",
            "page  3  processed\n",
            "page  4  processed\n",
            "page  5  processed\n",
            "page  6  processed\n",
            "page  7  processed\n",
            "page  8  processed\n",
            "page  9  processed\n",
            "page  10  processed\n",
            "page  11  processed\n",
            "page  12  processed\n",
            "page  13  processed\n",
            "page  14  processed\n",
            "page  15  processed\n",
            "page  16  processed\n",
            "page  17  processed\n",
            "page  18  processed\n",
            "page  19  processed\n",
            "page  20  processed\n",
            "page  21  processed\n",
            "page  22  processed\n",
            "page  23  processed\n",
            "page  24  processed\n",
            "page  25  processed\n",
            "page  26  processed\n",
            "page  27  processed\n",
            "page  28  processed\n",
            "page  29  processed\n",
            "page  30  processed\n",
            "page  31  processed\n",
            "page  32  processed\n",
            "page  33  processed\n",
            "page  34  processed\n",
            "page  35  processed\n",
            "page  36  processed\n",
            "page  37  processed\n",
            "page  38  processed\n",
            "page  39  processed\n",
            "page  40  processed\n",
            "\n",
            "Retriving job information...\n",
            "The  0 'th ID has been processed\n",
            "The  100 'th ID has been processed\n",
            "The  200 'th ID has been processed\n",
            "The  300 'th ID has been processed\n",
            "The  400 'th ID has been processed\n",
            "The  500 'th ID has been processed\n",
            "The  600 'th ID has been processed\n",
            "<class 'pandas.core.frame.DataFrame'>\n",
            "RangeIndex: 686 entries, 0 to 685\n",
            "Data columns (total 21 columns):\n",
            " #   Column               Non-Null Count  Dtype \n",
            "---  ------               --------------  ----- \n",
            " 0   employerId           686 non-null    int64 \n",
            " 1   employerName         686 non-null    object\n",
            " 2   jobId                686 non-null    int64 \n",
            " 3   jobTitle             686 non-null    object\n",
            " 4   locationName         686 non-null    object\n",
            " 5   minimumSalary        478 non-null    object\n",
            " 6   maximumSalary        478 non-null    object\n",
            " 7   yearlyMinimumSalary  478 non-null    object\n",
            " 8   yearlyMaximumSalary  478 non-null    object\n",
            " 9   currency             478 non-null    object\n",
            " 10  salaryType           686 non-null    object\n",
            " 11  salary               478 non-null    object\n",
            " 12  datePosted           686 non-null    object\n",
            " 13  expirationDate       686 non-null    object\n",
            " 14  externalUrl          203 non-null    object\n",
            " 15  jobUrl               686 non-null    object\n",
            " 16  partTime             686 non-null    bool  \n",
            " 17  fullTime             686 non-null    bool  \n",
            " 18  contractType         686 non-null    object\n",
            " 19  jobDescription       686 non-null    object\n",
            " 20  applicationCount     686 non-null    int64 \n",
            "dtypes: bool(2), int64(3), object(16)\n",
            "memory usage: 103.3+ KB\n"
          ]
        },
        {
          "output_type": "display_data",
          "data": {
            "text/plain": [
              "None"
            ]
          },
          "metadata": {}
        }
      ]
    },
    {
      "cell_type": "markdown",
      "source": [
        "##Cleaning"
      ],
      "metadata": {
        "id": "922YaELf6ylX"
      }
    },
    {
      "cell_type": "markdown",
      "source": [
        "For the Salary normalisation, I have taken the lowever value where a salary range is given and followed the following formulas for converting hourly and daily rates into per annum rates.    \n",
        "For day rates I have assumed working 5 days a week and 4 weeks of holiday.   \n",
        "For hourly rates I have assumed 36 hours a week and 4 weeks of holiday.   "
      ],
      "metadata": {
        "id": "gjjf32kG-pjB"
      }
    },
    {
      "cell_type": "code",
      "source": [
        "#function for rounding to significant figures rather than to decimal placeses\n",
        "def round_sig(x, sig=2):\n",
        "  return round(x, sig-int(floor(log10(abs(x))))-1)\n",
        "\n",
        "#normalises the salary into a £000's/year integer value \n",
        "def salary_manip(string): \n",
        "  if pd.isna(string) == True or \"not spec\" in string:\n",
        "    return np.nan\n",
        "  else:\n",
        "    multiple = [1,260-20,36*(52-4)]\n",
        "    type_ = 0\n",
        "\n",
        "    if \"annum\" in string:\n",
        "      type_ = 0\n",
        "    elif \"day\" in string:\n",
        "      type_ = 1\n",
        "    elif \"hour\" in string:\n",
        "      type_ = 2\n",
        "\n",
        "    string = string.split(\"per\")[0]\n",
        "\n",
        "    try:\n",
        "      string = string.split(\"-\")[0]\n",
        "    except:\n",
        "      pass\n",
        "    string = string.replace(\"£\",\"\").replace(\",\",\"\")\n",
        "\n",
        "    string = string.strip(\"\")\n",
        "    value = np.nan\n",
        "    try:\n",
        "      value = float(string)*multiple[type_]\n",
        "    except Exception as e: print(e)\n",
        "    return round_sig(value)/1000\n"
      ],
      "metadata": {
        "id": "zfewlfTj5zq-"
      },
      "execution_count": 73,
      "outputs": []
    },
    {
      "cell_type": "markdown",
      "source": [
        "This takes to full reed DF producted by the Main1() function and returns DF with only the required heading, as well as renaming them."
      ],
      "metadata": {
        "id": "i2kO1nwYaU2O"
      }
    },
    {
      "cell_type": "code",
      "source": [
        "def clean_reed(df_in): #this filters out the necessary rows and renames them so the cleaning function works.\n",
        "  df = df_in[[\"jobTitle\", \"employerName\", \"salary\", \"contractType\", \"locationName\",  \"jobUrl\"]]\n",
        "\n",
        "  df.rename(columns={\"jobTitle\":\"job_title\", \"employerName\": \"company\", \"contractType\":\"contract\", \"locationName\":\"location\",  \"jobUrl\":\"job_url\"}, inplace=True)\n",
        "\n",
        "  df[\"salary per annum (£ 000's)\"] =  df[\"salary\"].apply(salary_manip)\n",
        "  df = df[[\"job_title\",\"company\",\"salary\",\"salary per annum (£ 000's)\",\"contract\",\"location\",\"job_url\"]] #reorders the columns into a more readable form.\n",
        "  return df"
      ],
      "metadata": {
        "id": "TqyJqRguzTi_"
      },
      "execution_count": 74,
      "outputs": []
    },
    {
      "cell_type": "code",
      "source": [
        "reed_df = clean_reed(full_reed_df)\n",
        "print(\"DataFrame rows: \",reed_df.shape[0])\n",
        "print(\"DataFrame columns: \", reed_df.shape[0])\n",
        "display(reed_df)"
      ],
      "metadata": {
        "colab": {
          "base_uri": "https://localhost:8080/",
          "height": 460
        },
        "id": "ZPR7OEX8xwYH",
        "outputId": "3cd80b41-bb3f-410e-a194-cd6c4e7279f9"
      },
      "execution_count": 75,
      "outputs": [
        {
          "output_type": "stream",
          "name": "stdout",
          "text": [
            "DataFrame rows:  686\n",
            "DataFrame columns:  686\n"
          ]
        },
        {
          "output_type": "display_data",
          "data": {
            "text/plain": [
              "                                             job_title  \\\n",
              "0    Work From Home Remotely Immediate Start No Exp...   \n",
              "1                     Data Entry Work From Home Online   \n",
              "2    Data Entry Clerk - Remote Work From Home (Part...   \n",
              "3    Customer Service Administrator Advisor - Remot...   \n",
              "4    Customer Service Administrator Advisor - Remot...   \n",
              "..                                                 ...   \n",
              "681                             Field Service Engineer   \n",
              "682                                    Lead MI Analyst   \n",
              "683                                       Press Setter   \n",
              "684                          Assistant Retail Manager    \n",
              "685                              Oracle DBA Consultant   \n",
              "\n",
              "                               company                       salary  \\\n",
              "0                          925HomeJobs                         None   \n",
              "1                          925HomeJobs                         None   \n",
              "2                     Apex Focus Group     £25.00 - £55.00 per hour   \n",
              "3                     Apex Focus Group     £25.00 - £55.00 per hour   \n",
              "4                     Apex Focus Group     £25.00 - £55.00 per hour   \n",
              "..                                 ...                          ...   \n",
              "681  Clear Engineering Recruitment LTD  £35,000 - £37,000 per annum   \n",
              "682              Meraki Talent Limited         Salary not specified   \n",
              "683              Michael Page Scotland     £10.72 - £11.72 per hour   \n",
              "684                    Carpetright plc       £19,266 per annum, OTE   \n",
              "685                  eFinancialCareers                         None   \n",
              "\n",
              "     salary per annum (£ 000's)   contract    location  \\\n",
              "0                           NaN  Permanent   Edinburgh   \n",
              "1                           NaN  Permanent     Glasgow   \n",
              "2                          43.0  Permanent     Glasgow   \n",
              "3                          43.0  Permanent     Glasgow   \n",
              "4                          43.0  Permanent   Edinburgh   \n",
              "..                          ...        ...         ...   \n",
              "681                        35.0  Permanent     Glasgow   \n",
              "682                         NaN  Permanent   Edinburgh   \n",
              "683                        19.0  Permanent  Glenrothes   \n",
              "684                        19.0  Permanent    Straiton   \n",
              "685                         NaN  Permanent     Erskine   \n",
              "\n",
              "                                               job_url  \n",
              "0    https://www.reed.co.uk/jobs/work-from-home-rem...  \n",
              "1    https://www.reed.co.uk/jobs/data-entry-work-fr...  \n",
              "2    https://www.reed.co.uk/jobs/data-entry-clerk-r...  \n",
              "3    https://www.reed.co.uk/jobs/customer-service-a...  \n",
              "4    https://www.reed.co.uk/jobs/customer-service-a...  \n",
              "..                                                 ...  \n",
              "681  https://www.reed.co.uk/jobs/field-service-engi...  \n",
              "682  https://www.reed.co.uk/jobs/lead-mi-analyst/48...  \n",
              "683  https://www.reed.co.uk/jobs/press-setter/48920785  \n",
              "684  https://www.reed.co.uk/jobs/assistant-retail-m...  \n",
              "685  https://www.reed.co.uk/jobs/oracle-dba-consult...  \n",
              "\n",
              "[686 rows x 7 columns]"
            ],
            "text/html": [
              "\n",
              "  <div id=\"df-5654727b-e973-4159-9e79-1c753114648e\">\n",
              "    <div class=\"colab-df-container\">\n",
              "      <div>\n",
              "<style scoped>\n",
              "    .dataframe tbody tr th:only-of-type {\n",
              "        vertical-align: middle;\n",
              "    }\n",
              "\n",
              "    .dataframe tbody tr th {\n",
              "        vertical-align: top;\n",
              "    }\n",
              "\n",
              "    .dataframe thead th {\n",
              "        text-align: right;\n",
              "    }\n",
              "</style>\n",
              "<table border=\"1\" class=\"dataframe\">\n",
              "  <thead>\n",
              "    <tr style=\"text-align: right;\">\n",
              "      <th></th>\n",
              "      <th>job_title</th>\n",
              "      <th>company</th>\n",
              "      <th>salary</th>\n",
              "      <th>salary per annum (£ 000's)</th>\n",
              "      <th>contract</th>\n",
              "      <th>location</th>\n",
              "      <th>job_url</th>\n",
              "    </tr>\n",
              "  </thead>\n",
              "  <tbody>\n",
              "    <tr>\n",
              "      <th>0</th>\n",
              "      <td>Work From Home Remotely Immediate Start No Exp...</td>\n",
              "      <td>925HomeJobs</td>\n",
              "      <td>None</td>\n",
              "      <td>NaN</td>\n",
              "      <td>Permanent</td>\n",
              "      <td>Edinburgh</td>\n",
              "      <td>https://www.reed.co.uk/jobs/work-from-home-rem...</td>\n",
              "    </tr>\n",
              "    <tr>\n",
              "      <th>1</th>\n",
              "      <td>Data Entry Work From Home Online</td>\n",
              "      <td>925HomeJobs</td>\n",
              "      <td>None</td>\n",
              "      <td>NaN</td>\n",
              "      <td>Permanent</td>\n",
              "      <td>Glasgow</td>\n",
              "      <td>https://www.reed.co.uk/jobs/data-entry-work-fr...</td>\n",
              "    </tr>\n",
              "    <tr>\n",
              "      <th>2</th>\n",
              "      <td>Data Entry Clerk - Remote Work From Home (Part...</td>\n",
              "      <td>Apex Focus Group</td>\n",
              "      <td>£25.00 - £55.00 per hour</td>\n",
              "      <td>43.0</td>\n",
              "      <td>Permanent</td>\n",
              "      <td>Glasgow</td>\n",
              "      <td>https://www.reed.co.uk/jobs/data-entry-clerk-r...</td>\n",
              "    </tr>\n",
              "    <tr>\n",
              "      <th>3</th>\n",
              "      <td>Customer Service Administrator Advisor - Remot...</td>\n",
              "      <td>Apex Focus Group</td>\n",
              "      <td>£25.00 - £55.00 per hour</td>\n",
              "      <td>43.0</td>\n",
              "      <td>Permanent</td>\n",
              "      <td>Glasgow</td>\n",
              "      <td>https://www.reed.co.uk/jobs/customer-service-a...</td>\n",
              "    </tr>\n",
              "    <tr>\n",
              "      <th>4</th>\n",
              "      <td>Customer Service Administrator Advisor - Remot...</td>\n",
              "      <td>Apex Focus Group</td>\n",
              "      <td>£25.00 - £55.00 per hour</td>\n",
              "      <td>43.0</td>\n",
              "      <td>Permanent</td>\n",
              "      <td>Edinburgh</td>\n",
              "      <td>https://www.reed.co.uk/jobs/customer-service-a...</td>\n",
              "    </tr>\n",
              "    <tr>\n",
              "      <th>...</th>\n",
              "      <td>...</td>\n",
              "      <td>...</td>\n",
              "      <td>...</td>\n",
              "      <td>...</td>\n",
              "      <td>...</td>\n",
              "      <td>...</td>\n",
              "      <td>...</td>\n",
              "    </tr>\n",
              "    <tr>\n",
              "      <th>681</th>\n",
              "      <td>Field Service Engineer</td>\n",
              "      <td>Clear Engineering Recruitment LTD</td>\n",
              "      <td>£35,000 - £37,000 per annum</td>\n",
              "      <td>35.0</td>\n",
              "      <td>Permanent</td>\n",
              "      <td>Glasgow</td>\n",
              "      <td>https://www.reed.co.uk/jobs/field-service-engi...</td>\n",
              "    </tr>\n",
              "    <tr>\n",
              "      <th>682</th>\n",
              "      <td>Lead MI Analyst</td>\n",
              "      <td>Meraki Talent Limited</td>\n",
              "      <td>Salary not specified</td>\n",
              "      <td>NaN</td>\n",
              "      <td>Permanent</td>\n",
              "      <td>Edinburgh</td>\n",
              "      <td>https://www.reed.co.uk/jobs/lead-mi-analyst/48...</td>\n",
              "    </tr>\n",
              "    <tr>\n",
              "      <th>683</th>\n",
              "      <td>Press Setter</td>\n",
              "      <td>Michael Page Scotland</td>\n",
              "      <td>£10.72 - £11.72 per hour</td>\n",
              "      <td>19.0</td>\n",
              "      <td>Permanent</td>\n",
              "      <td>Glenrothes</td>\n",
              "      <td>https://www.reed.co.uk/jobs/press-setter/48920785</td>\n",
              "    </tr>\n",
              "    <tr>\n",
              "      <th>684</th>\n",
              "      <td>Assistant Retail Manager</td>\n",
              "      <td>Carpetright plc</td>\n",
              "      <td>£19,266 per annum, OTE</td>\n",
              "      <td>19.0</td>\n",
              "      <td>Permanent</td>\n",
              "      <td>Straiton</td>\n",
              "      <td>https://www.reed.co.uk/jobs/assistant-retail-m...</td>\n",
              "    </tr>\n",
              "    <tr>\n",
              "      <th>685</th>\n",
              "      <td>Oracle DBA Consultant</td>\n",
              "      <td>eFinancialCareers</td>\n",
              "      <td>None</td>\n",
              "      <td>NaN</td>\n",
              "      <td>Permanent</td>\n",
              "      <td>Erskine</td>\n",
              "      <td>https://www.reed.co.uk/jobs/oracle-dba-consult...</td>\n",
              "    </tr>\n",
              "  </tbody>\n",
              "</table>\n",
              "<p>686 rows × 7 columns</p>\n",
              "</div>\n",
              "      <button class=\"colab-df-convert\" onclick=\"convertToInteractive('df-5654727b-e973-4159-9e79-1c753114648e')\"\n",
              "              title=\"Convert this dataframe to an interactive table.\"\n",
              "              style=\"display:none;\">\n",
              "        \n",
              "  <svg xmlns=\"http://www.w3.org/2000/svg\" height=\"24px\"viewBox=\"0 0 24 24\"\n",
              "       width=\"24px\">\n",
              "    <path d=\"M0 0h24v24H0V0z\" fill=\"none\"/>\n",
              "    <path d=\"M18.56 5.44l.94 2.06.94-2.06 2.06-.94-2.06-.94-.94-2.06-.94 2.06-2.06.94zm-11 1L8.5 8.5l.94-2.06 2.06-.94-2.06-.94L8.5 2.5l-.94 2.06-2.06.94zm10 10l.94 2.06.94-2.06 2.06-.94-2.06-.94-.94-2.06-.94 2.06-2.06.94z\"/><path d=\"M17.41 7.96l-1.37-1.37c-.4-.4-.92-.59-1.43-.59-.52 0-1.04.2-1.43.59L10.3 9.45l-7.72 7.72c-.78.78-.78 2.05 0 2.83L4 21.41c.39.39.9.59 1.41.59.51 0 1.02-.2 1.41-.59l7.78-7.78 2.81-2.81c.8-.78.8-2.07 0-2.86zM5.41 20L4 18.59l7.72-7.72 1.47 1.35L5.41 20z\"/>\n",
              "  </svg>\n",
              "      </button>\n",
              "      \n",
              "  <style>\n",
              "    .colab-df-container {\n",
              "      display:flex;\n",
              "      flex-wrap:wrap;\n",
              "      gap: 12px;\n",
              "    }\n",
              "\n",
              "    .colab-df-convert {\n",
              "      background-color: #E8F0FE;\n",
              "      border: none;\n",
              "      border-radius: 50%;\n",
              "      cursor: pointer;\n",
              "      display: none;\n",
              "      fill: #1967D2;\n",
              "      height: 32px;\n",
              "      padding: 0 0 0 0;\n",
              "      width: 32px;\n",
              "    }\n",
              "\n",
              "    .colab-df-convert:hover {\n",
              "      background-color: #E2EBFA;\n",
              "      box-shadow: 0px 1px 2px rgba(60, 64, 67, 0.3), 0px 1px 3px 1px rgba(60, 64, 67, 0.15);\n",
              "      fill: #174EA6;\n",
              "    }\n",
              "\n",
              "    [theme=dark] .colab-df-convert {\n",
              "      background-color: #3B4455;\n",
              "      fill: #D2E3FC;\n",
              "    }\n",
              "\n",
              "    [theme=dark] .colab-df-convert:hover {\n",
              "      background-color: #434B5C;\n",
              "      box-shadow: 0px 1px 3px 1px rgba(0, 0, 0, 0.15);\n",
              "      filter: drop-shadow(0px 1px 2px rgba(0, 0, 0, 0.3));\n",
              "      fill: #FFFFFF;\n",
              "    }\n",
              "  </style>\n",
              "\n",
              "      <script>\n",
              "        const buttonEl =\n",
              "          document.querySelector('#df-5654727b-e973-4159-9e79-1c753114648e button.colab-df-convert');\n",
              "        buttonEl.style.display =\n",
              "          google.colab.kernel.accessAllowed ? 'block' : 'none';\n",
              "\n",
              "        async function convertToInteractive(key) {\n",
              "          const element = document.querySelector('#df-5654727b-e973-4159-9e79-1c753114648e');\n",
              "          const dataTable =\n",
              "            await google.colab.kernel.invokeFunction('convertToInteractive',\n",
              "                                                     [key], {});\n",
              "          if (!dataTable) return;\n",
              "\n",
              "          const docLinkHtml = 'Like what you see? Visit the ' +\n",
              "            '<a target=\"_blank\" href=https://colab.research.google.com/notebooks/data_table.ipynb>data table notebook</a>'\n",
              "            + ' to learn more about interactive tables.';\n",
              "          element.innerHTML = '';\n",
              "          dataTable['output_type'] = 'display_data';\n",
              "          await google.colab.output.renderOutput(dataTable, element);\n",
              "          const docLink = document.createElement('div');\n",
              "          docLink.innerHTML = docLinkHtml;\n",
              "          element.appendChild(docLink);\n",
              "        }\n",
              "      </script>\n",
              "    </div>\n",
              "  </div>\n",
              "  "
            ]
          },
          "metadata": {}
        }
      ]
    },
    {
      "cell_type": "markdown",
      "source": [
        "##Uploading\n",
        "---"
      ],
      "metadata": {
        "id": "qqHgFxLhUiIW"
      }
    },
    {
      "cell_type": "markdown",
      "source": [
        "Mount/Unmount functions"
      ],
      "metadata": {
        "id": "5idzd7Fs6vKY"
      }
    },
    {
      "cell_type": "code",
      "source": [
        "#This connects your Drive to the Colab document\n",
        "def mount_drive(data_path):\n",
        "  drive.mount('/content/drive/', force_remount=True)\n",
        "  project_dir = \"/content/drive/MyDrive/\"+data_path #--working parth\n",
        "  return project_dir\n",
        "\n",
        "#This disconnects your Drive from the Colab document\n",
        "def unmount_drive():\n",
        "  drive.flush_and_unmount()\n",
        "  print('Drive Unmounted')"
      ],
      "metadata": {
        "id": "H10PCLhhxyyM"
      },
      "execution_count": 76,
      "outputs": []
    },
    {
      "cell_type": "markdown",
      "source": [
        "Saving to your Google Drive.   \n",
        "This requires you to mount Drive to the Colab, a pop-up will appear asking you to log in to authenticate this."
      ],
      "metadata": {
        "id": "rtdWuti_T2pK"
      }
    },
    {
      "cell_type": "code",
      "source": [
        "def uploading(path_):\n",
        "  date_today = datetime.date.today()\n",
        "\n",
        "  project_dir = mount_drive(\"\") #change the text within the quotes if you want to save to another folder within google drive\n",
        "\n",
        "  reed_df.to_csv(project_dir + \"/\" + str(date_today) +\"_data_jobs_df.csv\",index=False)\n",
        "\n",
        "  unmount_drive()\n",
        "  print(\"The file, \" + str(date_today) +\"_data_jobs_df.csv,\", \"is now saved in \", project_dir, \"folder\")\n",
        "\n",
        "uploading(\"\")"
      ],
      "metadata": {
        "colab": {
          "base_uri": "https://localhost:8080/"
        },
        "id": "CvfIh7dbTtH4",
        "outputId": "eda8c9e8-ca6e-49da-d49d-a5bbb213acfd"
      },
      "execution_count": 79,
      "outputs": [
        {
          "output_type": "stream",
          "name": "stdout",
          "text": [
            "Mounted at /content/drive/\n",
            "Drive Unmounted\n",
            "The file, 2022-11-15_data_jobs_df.csv, is now saved in  /content/drive/MyDrive/ folder\n"
          ]
        }
      ]
    }
  ]
}