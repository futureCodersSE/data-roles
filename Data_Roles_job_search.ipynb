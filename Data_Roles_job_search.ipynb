{
  "nbformat": 4,
  "nbformat_minor": 0,
  "metadata": {
    "colab": {
      "provenance": [],
      "authorship_tag": "ABX9TyN2sOc8MIluU7PK1wNOoVCA",
      "include_colab_link": true
    },
    "kernelspec": {
      "name": "python3",
      "display_name": "Python 3"
    },
    "language_info": {
      "name": "python"
    }
  },
  "cells": [
    {
      "cell_type": "markdown",
      "metadata": {
        "id": "view-in-github",
        "colab_type": "text"
      },
      "source": [
        "<a href=\"https://colab.research.google.com/github/futureCodersSE/data-roles/blob/main/Data_Roles_job_search.ipynb\" target=\"_parent\"><img src=\"https://colab.research.google.com/assets/colab-badge.svg\" alt=\"Open In Colab\"/></a>"
      ]
    },
    {
      "cell_type": "markdown",
      "source": [
        "#Job Search Script.   \n",
        "\n",
        "\n",
        "\n",
        "###Brief: \n",
        "To find what companies are currently looking to employ people in a data focused job with.\n",
        "\n",
        "##Intro:\n",
        "This script accepts user input to search the websites, Reed.co.uk and jobsinkent.com. The user can specify a search term, center of search and radius of search. The user can then specify a filter term which will only return jobs with that term included job title.   \n",
        "\n",
        "If users wish to save results of the search as a .csv file they can do so in their Google Drive.   \n",
        "\n",
        "Further down in the script, the data is split into two catagories. Jobs that are posted by a recruitment agency and jobs that are posted by direct employers. An initial list of know recruites is taken from GitHub but it is not expanist*. The list can be added to by direct user imput if the decide any in the list of direct employers are actually recruiters. The updated list can then be saved to Google Drive and used in subsequent searches using this script."
      ],
      "metadata": {
        "id": "gXmOBWlBvpJZ"
      }
    },
    {
      "cell_type": "markdown",
      "source": [
        "Importing libaries"
      ],
      "metadata": {
        "id": "bU4maESh2aQ_"
      }
    },
    {
      "cell_type": "code",
      "execution_count": 38,
      "metadata": {
        "id": "j-UR0WPmrjU2"
      },
      "outputs": [],
      "source": [
        "from bs4 import BeautifulSoup\n",
        "import requests\n",
        "import pandas as pd\n",
        "pd.options.mode.chained_assignment = None  # default='warn'  ##<- this is really annoying, I WANT to copy the DF.\n",
        "import numpy as np\n",
        "import datetime\n",
        "import matplotlib.pyplot as plt\n",
        "from google.colab import files\n",
        "from google.colab import drive"
      ]
    },
    {
      "cell_type": "markdown",
      "source": [
        "###User Input Function:    \n",
        "To use this script, input your search terms in the boxes below when asked. \n",
        "\n",
        "Job Search Term: You can include commers, spaces and multiple words.\n",
        "\n",
        "Center of Search, use format: 'Town, County' if the center you are searching for is not unique. If it is unique within the UK, 'County' is unnecessary. Or you can just use 'County' as your search center.\n",
        "\n",
        "--NB: for JobsInKent, the search is limited to 'Kent' by default.\n",
        "\n",
        "Radius: enter any valid integer. The closest valid radius for each site will be picked. If you are equidistance between two values, the lower value will be choesen.\n",
        "\n",
        "Filter Term: This will filter the final database to only contain jobs with the Filiter Term in the title: ie 'Data' will filter keep 'Data Developer' but not 'Software Developer'. To not filter at all, type 'no' instead.\n",
        "\n",
        "--NB: the filter term is case sensitve, 'data' will not pick up 'Database'.\n",
        "\n",
        "Specify a folder to save in: To save the DataFrame in the folder MyDrive/Collab Notebooks/Folder 1, enter 'Collab Notebooks/Folder 1' when asked.   \n",
        "\n",
        "If you have a 'recruiters_list.csv' in your Drive already, make sure it is in the same folder as selected for saving the results."
      ],
      "metadata": {
        "id": "ho_4zEqKkdX2"
      }
    },
    {
      "cell_type": "markdown",
      "source": [
        "###Suggested inputs:\n",
        "\n",
        "Job Search Term (commer, spaces are allowed): Data   \n",
        "Center of Search (Town, County): Ashford, Kent   \n",
        "Search Radius (Miles): 30   \n",
        "Filter Term: Data   \n",
        "Would you like to save and download the results of your search? (yes/no) yes   \n",
        "Specify a folder in My Drive to save in (or leave blank):   \n",
        "Do you have a list of known recruiters saved in your Drive? (yes/no): yes   \n"
      ],
      "metadata": {
        "id": "5kuDrEwiS18i"
      }
    },
    {
      "cell_type": "code",
      "source": [
        "def user_imput():\n",
        "  search_term = input(\"Job Search Term (commer, spaces are allowed): \" )\n",
        "  search_center = input(\"Center of Search (Town, County): \") #town, county\n",
        "  search_radius = int(input(\"Search Radius (Miles): \" ))\n",
        "\n",
        "  filter_term = input(\"Filter Term: \")\n",
        "  if filter_term.lower() == \"no\":\n",
        "    filter_term = None\n",
        "\n",
        "  save_state = False\n",
        "  query_save = input(\"Would you like to save and download the results of your search? (yes/no) \")\n",
        "  if query_save.lower() == \"yes\":\n",
        "    save_state = True\n",
        "    save_path = input(\"Specify a folder in My Drive to save in (or leave blank): \")\n",
        "  else: \n",
        "    save_state = False\n",
        "    save_path = \"\"\n",
        "\n",
        "  recruiters_list_test = input(\"Do you have a list of known recruiters saved in your Drive? (yes/no): \")\n",
        "\n",
        "  return search_term, search_center, search_radius, filter_term, save_path, recruiters_list_test, query_save\n",
        "\n",
        "search_term, search_center, search_radius, filter_term, save_path, recruiters_list_test, query_save = user_imput()\n"
      ],
      "metadata": {
        "colab": {
          "base_uri": "https://localhost:8080/"
        },
        "id": "Hg-Ws572kcQv",
        "outputId": "e876a7b3-1062-4e6c-be5b-30d690dbb87c"
      },
      "execution_count": 39,
      "outputs": [
        {
          "name": "stdout",
          "output_type": "stream",
          "text": [
            "Job Search Term (commer, spaces are allowed): Data\n",
            "Center of Search (Town, County): Ashford, Kent\n",
            "Search Radius (Miles): 30\n",
            "Filter Term: Data\n",
            "Would you like to save and download the results of your search? (yes/no) yes\n",
            "Specify a folder in My Drive to save in (or leave blank): \n",
            "Do you have a list of known recruiters saved in your Drive? (yes/no): yes\n"
          ]
        }
      ]
    },
    {
      "cell_type": "markdown",
      "source": [
        "This function finds the closest (rounded down) search radius to the on submitted."
      ],
      "metadata": {
        "id": "FKwEcOgRCLnW"
      }
    },
    {
      "cell_type": "code",
      "source": [
        "def find_valid_radius(radius,valid_list):\n",
        "  valid_test = np.array([],dtype=\"int\")\n",
        "\n",
        "  for radi in valid_list:\n",
        "    valid_test = np.append(valid_test,[abs(radi-radius)])\n",
        "  return_radius = valid_list[np.argmin(valid_test)]\n",
        "  return return_radius"
      ],
      "metadata": {
        "id": "tQ-qy5zUCLC5"
      },
      "execution_count": 40,
      "outputs": []
    },
    {
      "cell_type": "markdown",
      "source": [
        "This takes the search terms above and creates the URL"
      ],
      "metadata": {
        "id": "La4s0FpEa-Vt"
      }
    },
    {
      "cell_type": "code",
      "source": [
        "def creat_urls(search_term, search_center, search_radius):\n",
        "  jobsinkent_search_str = search_term.replace(\",\",\"%2C\").replace(\" \",\"+\")\n",
        "  reed_search_str = search_term.replace(\",\",\"%2C\").replace(\" \",\"%20\")\n",
        "\n",
        "  reed_center_str = search_center.replace(\", \",\"%2C-\")\n",
        "\n",
        "  jobsinkent_valid_radius = np.array([1,2,5,10,20,30,40],dtype=\"int\")\n",
        "  jobsinkent_radius = find_valid_radius(search_radius, jobsinkent_valid_radius)\n",
        "\n",
        "  reed_valid_radius = np.array([0,1,3,5,10,15,20,30,50],dtype=\"int\")\n",
        "  reed_radius = find_valid_radius(search_radius, reed_valid_radius)\n",
        "\n",
        "  jobsinkent_url = \"https://jobsinkent.com/search?q=\" + jobsinkent_search_str + \"&pl=1\" + \"&r=\" + str(jobsinkent_radius)\n",
        "  reed_url = \"https://www.reed.co.uk/jobs?keywords=\" + reed_search_str+\"&location=\" + reed_center_str + \"&proximity=\" + str(reed_radius)\n",
        "  print(jobsinkent_url)\n",
        "  print(reed_url)\n",
        "\n",
        "  return reed_url, jobsinkent_url"
      ],
      "metadata": {
        "id": "cMh4CqyMCnpF"
      },
      "execution_count": 41,
      "outputs": []
    },
    {
      "cell_type": "code",
      "source": [
        "reed_url, jobsinkent_url = creat_urls(search_term, search_center, search_radius)\n",
        "\n",
        "max_job_call = 2000 #reed has a limit of 2000 job search api calls per hour."
      ],
      "metadata": {
        "colab": {
          "base_uri": "https://localhost:8080/"
        },
        "id": "sk5LBD_iCKXk",
        "outputId": "fe37c4c6-45b7-4255-be90-1fe3c625b1dc"
      },
      "execution_count": 42,
      "outputs": [
        {
          "output_type": "stream",
          "name": "stdout",
          "text": [
            "https://jobsinkent.com/search?q=Data&pl=1&r=30\n",
            "https://www.reed.co.uk/jobs?keywords=Data&location=Ashford%2C-Kent&proximity=30\n"
          ]
        }
      ]
    },
    {
      "cell_type": "markdown",
      "source": [
        "General Functions that are used in both searches."
      ],
      "metadata": {
        "id": "j9izuNBqxuTU"
      }
    },
    {
      "cell_type": "code",
      "source": [
        "#returns the full HTML of a page.\n",
        "def get_html(url):\n",
        "    page = requests.get(url)\n",
        "    soup = BeautifulSoup(page.content, 'html.parser')\n",
        "    return soup\n",
        "\n",
        "#This cleans the dataframes when they have been created.\n",
        "def general_clean(df,site,filter_term):\n",
        "  df.drop_duplicates(inplace=True)\n",
        "  df[\"salary\"].replace(np.nan, '', regex=False,inplace=True) #not all companies have listed a salary and so NaN is sometimes returned\n",
        "  df[\"company\"] = df[\"company\"].str.lstrip(\" \").str.rstrip(\" \") #some companies have excess whitespaces around their names\n",
        "  df.dropna(inplace=True) #just incase the max of 2000 jobs is bypassed\n",
        "\n",
        "  if filter_term != None:\n",
        "    df = df[df[\"job_title\"].str.contains(filter_term)]\n",
        "\n",
        "  df[\"date_found\"] = datetime.date.today()\n",
        "  df[\"advertised_on\"] = site\n",
        "  return df"
      ],
      "metadata": {
        "id": "hPZ9tXTmxuHZ"
      },
      "execution_count": 43,
      "outputs": []
    },
    {
      "cell_type": "markdown",
      "source": [
        "#Reed Job Search\n",
        "---"
      ],
      "metadata": {
        "id": "twZFKrtmuBG-"
      }
    },
    {
      "cell_type": "markdown",
      "source": [
        "This function finds the job ID for all jobs displayed on each page url from reed.co.uk\n"
      ],
      "metadata": {
        "id": "Ze1w318xtMpj"
      }
    },
    {
      "cell_type": "code",
      "source": [
        "def reed_jobs_iterate(page_url):\n",
        "  site_html = get_html(page_url)\n",
        "  results = site_html.find(class_=\"col-sm-8 col-md-9 results-container\")\n",
        "\n",
        "  id_list = np.array([])\n",
        "  job_cards = results.find_all(class_=\"job-result-card\")\n",
        "\n",
        "  for job in job_cards: #finds the jobs, gets it's ID, returns the id\n",
        "      job_id = int(job[\"id\"].split(\"jobSection\")[1]) #jobSection48529572 ect...\n",
        "      \n",
        "      id_list = np.append(id_list,[job_id])\n",
        "  return id_list"
      ],
      "metadata": {
        "id": "3HhCS-c4rov7"
      },
      "execution_count": 44,
      "outputs": []
    },
    {
      "cell_type": "markdown",
      "source": [
        "This finds the total jobs found in the search"
      ],
      "metadata": {
        "id": "FcBpN7SV7sI3"
      }
    },
    {
      "cell_type": "code",
      "source": [
        "def find_reed_total_jobs(site_html,max_job_call):\n",
        "  max_page_requests = int(max_job_call/25) \n",
        "\n",
        "  ###\n",
        "  total_jobs_text = site_html.find(class_=\"col-sm-11 col-xs-12 page-title\").text # '\\n' '\\r' '\\n' x,xxx\\r\\n  Data Jobs near Ashford       '\\n'....\n",
        "  total_jobs_text = total_jobs_text.replace(\"\\n\",\"\").replace(\"\\r\",\"\").replace(\",\",\"\") #          xxxx         Data Jobs near Ashford       .       \n",
        "\n",
        "  total_jobs = int(total_jobs_text.split(\"Data\")[0].strip(\" \"))\n",
        "  total_pages = int(np.ceil(total_jobs/25))\n",
        "\n",
        "  #limits the requests to only 2000\n",
        "  if total_pages > max_page_requests:\n",
        "    total_pages = max_page_requests\n",
        "\n",
        "\n",
        "  return total_jobs, total_pages"
      ],
      "metadata": {
        "id": "rb1-9VOLuMXS"
      },
      "execution_count": 45,
      "outputs": []
    },
    {
      "cell_type": "markdown",
      "source": [
        "\n",
        "The function scrapes website for the job IDs of every job that has been found by the search criteria.\n"
      ],
      "metadata": {
        "id": "55hjm4Hqtadz"
      }
    },
    {
      "cell_type": "code",
      "source": [
        "def reed_scrape(base_url,max_job_call):\n",
        "  soup = get_html(base_url)\n",
        "  total_id_list = np.array([],dtype=int)\n",
        "\n",
        "  #finds out how many more pages to scrape\n",
        "  total_jobs, total_pages = find_reed_total_jobs(soup,max_job_call)\n",
        "\n",
        "  print(\"total jobs found: \", total_jobs)\n",
        "  print(\"total pages: \", total_pages)\n",
        "  print(\"pages to search: \",total_pages)\n",
        "\n",
        "  for page_no in np.arange(1,total_pages+1): \n",
        "    page_url = base_url+\"&pageno=\"+str(page_no)\n",
        "    page_id_list = reed_jobs_iterate(page_url)\n",
        "    total_id_list = np.append(total_id_list,[page_id_list])\n",
        "\n",
        "    #user feedback\n",
        "    print(\"page \",page_no, \" processed\")\n",
        "  return total_id_list\n"
      ],
      "metadata": {
        "id": "Az2WHxc4taFE"
      },
      "execution_count": 46,
      "outputs": []
    },
    {
      "cell_type": "markdown",
      "source": [
        "This gives the job IDs to the Reed API to return job information based on the job ID"
      ],
      "metadata": {
        "id": "vTIXRwtw7FDt"
      }
    },
    {
      "cell_type": "code",
      "source": [
        "def call_reed_api(id_list):\n",
        "  base_url = \"https://www.reed.co.uk/api/1.0/jobs/\"\n",
        "  api_url = \"\"\n",
        "  job_df = pd.DataFrame()\n",
        "\n",
        "  #user feedback\n",
        "  print(\"Retriving job information...\")\n",
        "\n",
        "  for job_id in id_list:\n",
        "    api_url = base_url+str(job_id)\n",
        "    post_request = requests.get(api_url, auth=(\"96a7ec49-549c-4529-b9d2-fa3059a437b3\",\"\"))\n",
        "    json_data = post_request.json()\n",
        "\n",
        "    new_row = pd.json_normalize(json_data)\n",
        "    job_df = job_df.append(new_row,ignore_index=True)\n",
        "  return job_df"
      ],
      "metadata": {
        "id": "XvS9gJzw3naG"
      },
      "execution_count": 47,
      "outputs": []
    },
    {
      "cell_type": "markdown",
      "source": [
        "Calls the scraping function and the api function in turn ~7-8mins to run"
      ],
      "metadata": {
        "id": "KMBzMmFP8FKj"
      }
    },
    {
      "cell_type": "code",
      "source": [
        "reed_id_list = reed_scrape(reed_url,max_job_call)\n",
        "reed_id_list = reed_id_list.astype(\"int\") #it really didnt want to save the array as an int\n",
        "\n",
        "full_reed_df = call_reed_api(reed_id_list)\n",
        "display(full_reed_df.info())"
      ],
      "metadata": {
        "id": "9LUfycOh7OMg",
        "colab": {
          "base_uri": "https://localhost:8080/",
          "height": 0
        },
        "outputId": "865fbc18-3eea-4abb-9c9b-796c25f48c9d"
      },
      "execution_count": 48,
      "outputs": [
        {
          "output_type": "stream",
          "name": "stdout",
          "text": [
            "total jobs found:  1520\n",
            "total pages:  61\n",
            "pages to search:  61\n",
            "page  1  processed\n",
            "page  2  processed\n",
            "page  3  processed\n",
            "page  4  processed\n",
            "page  5  processed\n",
            "page  6  processed\n",
            "page  7  processed\n",
            "page  8  processed\n",
            "page  9  processed\n",
            "page  10  processed\n",
            "page  11  processed\n",
            "page  12  processed\n",
            "page  13  processed\n",
            "page  14  processed\n",
            "page  15  processed\n",
            "page  16  processed\n",
            "page  17  processed\n",
            "page  18  processed\n",
            "page  19  processed\n",
            "page  20  processed\n",
            "page  21  processed\n",
            "page  22  processed\n",
            "page  23  processed\n",
            "page  24  processed\n",
            "page  25  processed\n",
            "page  26  processed\n",
            "page  27  processed\n",
            "page  28  processed\n",
            "page  29  processed\n",
            "page  30  processed\n",
            "page  31  processed\n",
            "page  32  processed\n",
            "page  33  processed\n",
            "page  34  processed\n",
            "page  35  processed\n",
            "page  36  processed\n",
            "page  37  processed\n",
            "page  38  processed\n",
            "page  39  processed\n",
            "page  40  processed\n",
            "page  41  processed\n",
            "page  42  processed\n",
            "page  43  processed\n",
            "page  44  processed\n",
            "page  45  processed\n",
            "page  46  processed\n",
            "page  47  processed\n",
            "page  48  processed\n",
            "page  49  processed\n",
            "page  50  processed\n",
            "page  51  processed\n",
            "page  52  processed\n",
            "page  53  processed\n",
            "page  54  processed\n",
            "page  55  processed\n",
            "page  56  processed\n",
            "page  57  processed\n",
            "page  58  processed\n",
            "page  59  processed\n",
            "page  60  processed\n",
            "page  61  processed\n",
            "Retriving job information...\n",
            "<class 'pandas.core.frame.DataFrame'>\n",
            "RangeIndex: 1581 entries, 0 to 1580\n",
            "Data columns (total 22 columns):\n",
            " #   Column               Non-Null Count  Dtype  \n",
            "---  ------               --------------  -----  \n",
            " 0   employerId           420 non-null    float64\n",
            " 1   employerName         420 non-null    object \n",
            " 2   jobId                420 non-null    float64\n",
            " 3   jobTitle             420 non-null    object \n",
            " 4   locationName         420 non-null    object \n",
            " 5   minimumSalary        330 non-null    object \n",
            " 6   maximumSalary        330 non-null    object \n",
            " 7   yearlyMinimumSalary  330 non-null    object \n",
            " 8   yearlyMaximumSalary  330 non-null    object \n",
            " 9   currency             330 non-null    object \n",
            " 10  salaryType           420 non-null    object \n",
            " 11  salary               330 non-null    object \n",
            " 12  datePosted           420 non-null    object \n",
            " 13  expirationDate       420 non-null    object \n",
            " 14  externalUrl          81 non-null     object \n",
            " 15  jobUrl               420 non-null    object \n",
            " 16  partTime             420 non-null    object \n",
            " 17  fullTime             420 non-null    object \n",
            " 18  contractType         420 non-null    object \n",
            " 19  jobDescription       420 non-null    object \n",
            " 20  applicationCount     420 non-null    float64\n",
            " 21  message              1161 non-null   object \n",
            "dtypes: float64(3), object(19)\n",
            "memory usage: 271.9+ KB\n"
          ]
        },
        {
          "output_type": "display_data",
          "data": {
            "text/plain": [
              "None"
            ]
          },
          "metadata": {}
        }
      ]
    },
    {
      "cell_type": "markdown",
      "source": [
        "Cleaning the Reed DF"
      ],
      "metadata": {
        "id": "q8H8F0IT-Z40"
      }
    },
    {
      "cell_type": "code",
      "source": [
        "def clean_reed(df_in): #this filters out the necessary rows and renames them so the cleaning function works.\n",
        "  df = df_in[[\"jobTitle\", \"employerName\", \"salary\", \"contractType\", \"locationName\",  \"jobUrl\"]]\n",
        "\n",
        "  df.rename(columns={\"jobTitle\":\"job_title\", \"employerName\": \"company\", \"contractType\":\"contract\", \"locationName\":\"location\",  \"jobUrl\":\"job_url\"}, inplace=True)\n",
        "  return df\n",
        "\n",
        "reed_df = clean_reed(full_reed_df)\n",
        "reed_df = general_clean(reed_df,\"https://www.reed.co.uk\",filter_term)\n",
        "display(reed_df.shape)\n",
        "display(reed_df.head(5))"
      ],
      "metadata": {
        "colab": {
          "base_uri": "https://localhost:8080/",
          "height": 0
        },
        "id": "_Sp0u-sv-YlY",
        "outputId": "c983fe2f-d4a7-4695-d789-51b92c204685"
      },
      "execution_count": 49,
      "outputs": [
        {
          "output_type": "display_data",
          "data": {
            "text/plain": [
              "(54, 8)"
            ]
          },
          "metadata": {}
        },
        {
          "output_type": "display_data",
          "data": {
            "text/plain": [
              "        job_title                  company  \\\n",
              "0  Data Architect                Veolia UK   \n",
              "2    Data Analyst  Kent Recruitment Bureau   \n",
              "3    Data Analyst      Goldhawk Associates   \n",
              "4    Data Analyst               Premier IT   \n",
              "5      Data Miner             GerrardWhite   \n",
              "\n",
              "                                      salary   contract         location  \\\n",
              "0  £65,000 - £84,600 per annum, inc benefits  Permanent   United Kingdom   \n",
              "2                £35,900 - £39,600 per annum  Permanent          Ashford   \n",
              "3                £35,000 - £40,000 per annum  Permanent          Ashford   \n",
              "4                £30,000 - £35,000 per annum  Permanent         Basildon   \n",
              "5                          £80,000 per annum  Permanent  Tunbridge Wells   \n",
              "\n",
              "                                             job_url  date_found  \\\n",
              "0  https://www.reed.co.uk/jobs/data-architect/488...  2022-11-18   \n",
              "2  https://www.reed.co.uk/jobs/data-analyst/48745833  2022-11-18   \n",
              "3  https://www.reed.co.uk/jobs/data-analyst/48724457  2022-11-18   \n",
              "4  https://www.reed.co.uk/jobs/data-analyst/48631725  2022-11-18   \n",
              "5    https://www.reed.co.uk/jobs/data-miner/48819188  2022-11-18   \n",
              "\n",
              "            advertised_on  \n",
              "0  https://www.reed.co.uk  \n",
              "2  https://www.reed.co.uk  \n",
              "3  https://www.reed.co.uk  \n",
              "4  https://www.reed.co.uk  \n",
              "5  https://www.reed.co.uk  "
            ],
            "text/html": [
              "\n",
              "  <div id=\"df-3eae11ee-cf3b-4d9b-9bb2-091e64724b42\">\n",
              "    <div class=\"colab-df-container\">\n",
              "      <div>\n",
              "<style scoped>\n",
              "    .dataframe tbody tr th:only-of-type {\n",
              "        vertical-align: middle;\n",
              "    }\n",
              "\n",
              "    .dataframe tbody tr th {\n",
              "        vertical-align: top;\n",
              "    }\n",
              "\n",
              "    .dataframe thead th {\n",
              "        text-align: right;\n",
              "    }\n",
              "</style>\n",
              "<table border=\"1\" class=\"dataframe\">\n",
              "  <thead>\n",
              "    <tr style=\"text-align: right;\">\n",
              "      <th></th>\n",
              "      <th>job_title</th>\n",
              "      <th>company</th>\n",
              "      <th>salary</th>\n",
              "      <th>contract</th>\n",
              "      <th>location</th>\n",
              "      <th>job_url</th>\n",
              "      <th>date_found</th>\n",
              "      <th>advertised_on</th>\n",
              "    </tr>\n",
              "  </thead>\n",
              "  <tbody>\n",
              "    <tr>\n",
              "      <th>0</th>\n",
              "      <td>Data Architect</td>\n",
              "      <td>Veolia UK</td>\n",
              "      <td>£65,000 - £84,600 per annum, inc benefits</td>\n",
              "      <td>Permanent</td>\n",
              "      <td>United Kingdom</td>\n",
              "      <td>https://www.reed.co.uk/jobs/data-architect/488...</td>\n",
              "      <td>2022-11-18</td>\n",
              "      <td>https://www.reed.co.uk</td>\n",
              "    </tr>\n",
              "    <tr>\n",
              "      <th>2</th>\n",
              "      <td>Data Analyst</td>\n",
              "      <td>Kent Recruitment Bureau</td>\n",
              "      <td>£35,900 - £39,600 per annum</td>\n",
              "      <td>Permanent</td>\n",
              "      <td>Ashford</td>\n",
              "      <td>https://www.reed.co.uk/jobs/data-analyst/48745833</td>\n",
              "      <td>2022-11-18</td>\n",
              "      <td>https://www.reed.co.uk</td>\n",
              "    </tr>\n",
              "    <tr>\n",
              "      <th>3</th>\n",
              "      <td>Data Analyst</td>\n",
              "      <td>Goldhawk Associates</td>\n",
              "      <td>£35,000 - £40,000 per annum</td>\n",
              "      <td>Permanent</td>\n",
              "      <td>Ashford</td>\n",
              "      <td>https://www.reed.co.uk/jobs/data-analyst/48724457</td>\n",
              "      <td>2022-11-18</td>\n",
              "      <td>https://www.reed.co.uk</td>\n",
              "    </tr>\n",
              "    <tr>\n",
              "      <th>4</th>\n",
              "      <td>Data Analyst</td>\n",
              "      <td>Premier IT</td>\n",
              "      <td>£30,000 - £35,000 per annum</td>\n",
              "      <td>Permanent</td>\n",
              "      <td>Basildon</td>\n",
              "      <td>https://www.reed.co.uk/jobs/data-analyst/48631725</td>\n",
              "      <td>2022-11-18</td>\n",
              "      <td>https://www.reed.co.uk</td>\n",
              "    </tr>\n",
              "    <tr>\n",
              "      <th>5</th>\n",
              "      <td>Data Miner</td>\n",
              "      <td>GerrardWhite</td>\n",
              "      <td>£80,000 per annum</td>\n",
              "      <td>Permanent</td>\n",
              "      <td>Tunbridge Wells</td>\n",
              "      <td>https://www.reed.co.uk/jobs/data-miner/48819188</td>\n",
              "      <td>2022-11-18</td>\n",
              "      <td>https://www.reed.co.uk</td>\n",
              "    </tr>\n",
              "  </tbody>\n",
              "</table>\n",
              "</div>\n",
              "      <button class=\"colab-df-convert\" onclick=\"convertToInteractive('df-3eae11ee-cf3b-4d9b-9bb2-091e64724b42')\"\n",
              "              title=\"Convert this dataframe to an interactive table.\"\n",
              "              style=\"display:none;\">\n",
              "        \n",
              "  <svg xmlns=\"http://www.w3.org/2000/svg\" height=\"24px\"viewBox=\"0 0 24 24\"\n",
              "       width=\"24px\">\n",
              "    <path d=\"M0 0h24v24H0V0z\" fill=\"none\"/>\n",
              "    <path d=\"M18.56 5.44l.94 2.06.94-2.06 2.06-.94-2.06-.94-.94-2.06-.94 2.06-2.06.94zm-11 1L8.5 8.5l.94-2.06 2.06-.94-2.06-.94L8.5 2.5l-.94 2.06-2.06.94zm10 10l.94 2.06.94-2.06 2.06-.94-2.06-.94-.94-2.06-.94 2.06-2.06.94z\"/><path d=\"M17.41 7.96l-1.37-1.37c-.4-.4-.92-.59-1.43-.59-.52 0-1.04.2-1.43.59L10.3 9.45l-7.72 7.72c-.78.78-.78 2.05 0 2.83L4 21.41c.39.39.9.59 1.41.59.51 0 1.02-.2 1.41-.59l7.78-7.78 2.81-2.81c.8-.78.8-2.07 0-2.86zM5.41 20L4 18.59l7.72-7.72 1.47 1.35L5.41 20z\"/>\n",
              "  </svg>\n",
              "      </button>\n",
              "      \n",
              "  <style>\n",
              "    .colab-df-container {\n",
              "      display:flex;\n",
              "      flex-wrap:wrap;\n",
              "      gap: 12px;\n",
              "    }\n",
              "\n",
              "    .colab-df-convert {\n",
              "      background-color: #E8F0FE;\n",
              "      border: none;\n",
              "      border-radius: 50%;\n",
              "      cursor: pointer;\n",
              "      display: none;\n",
              "      fill: #1967D2;\n",
              "      height: 32px;\n",
              "      padding: 0 0 0 0;\n",
              "      width: 32px;\n",
              "    }\n",
              "\n",
              "    .colab-df-convert:hover {\n",
              "      background-color: #E2EBFA;\n",
              "      box-shadow: 0px 1px 2px rgba(60, 64, 67, 0.3), 0px 1px 3px 1px rgba(60, 64, 67, 0.15);\n",
              "      fill: #174EA6;\n",
              "    }\n",
              "\n",
              "    [theme=dark] .colab-df-convert {\n",
              "      background-color: #3B4455;\n",
              "      fill: #D2E3FC;\n",
              "    }\n",
              "\n",
              "    [theme=dark] .colab-df-convert:hover {\n",
              "      background-color: #434B5C;\n",
              "      box-shadow: 0px 1px 3px 1px rgba(0, 0, 0, 0.15);\n",
              "      filter: drop-shadow(0px 1px 2px rgba(0, 0, 0, 0.3));\n",
              "      fill: #FFFFFF;\n",
              "    }\n",
              "  </style>\n",
              "\n",
              "      <script>\n",
              "        const buttonEl =\n",
              "          document.querySelector('#df-3eae11ee-cf3b-4d9b-9bb2-091e64724b42 button.colab-df-convert');\n",
              "        buttonEl.style.display =\n",
              "          google.colab.kernel.accessAllowed ? 'block' : 'none';\n",
              "\n",
              "        async function convertToInteractive(key) {\n",
              "          const element = document.querySelector('#df-3eae11ee-cf3b-4d9b-9bb2-091e64724b42');\n",
              "          const dataTable =\n",
              "            await google.colab.kernel.invokeFunction('convertToInteractive',\n",
              "                                                     [key], {});\n",
              "          if (!dataTable) return;\n",
              "\n",
              "          const docLinkHtml = 'Like what you see? Visit the ' +\n",
              "            '<a target=\"_blank\" href=https://colab.research.google.com/notebooks/data_table.ipynb>data table notebook</a>'\n",
              "            + ' to learn more about interactive tables.';\n",
              "          element.innerHTML = '';\n",
              "          dataTable['output_type'] = 'display_data';\n",
              "          await google.colab.output.renderOutput(dataTable, element);\n",
              "          const docLink = document.createElement('div');\n",
              "          docLink.innerHTML = docLinkHtml;\n",
              "          element.appendChild(docLink);\n",
              "        }\n",
              "      </script>\n",
              "    </div>\n",
              "  </div>\n",
              "  "
            ]
          },
          "metadata": {}
        }
      ]
    },
    {
      "cell_type": "markdown",
      "source": [
        "#JobsInKent Job Search\n",
        "---\n"
      ],
      "metadata": {
        "id": "TS2GBSrFtbB6"
      }
    },
    {
      "cell_type": "markdown",
      "source": [
        "This function returns a DF containing all of the relevent jobs found on 1 page"
      ],
      "metadata": {
        "id": "REZ6sHSk9apg"
      }
    },
    {
      "cell_type": "code",
      "source": [
        "def jobsinkent_iterate(url,job_limit):\n",
        "  jobs_df = pd.DataFrame(data=[], columns = [\"job_title\", \"company\", \"salary\", \"contract\", \"location\",\"job_url\"])\n",
        "  site_html = get_html(url)\n",
        "  results = site_html.find(class_=\"mt-2 lg:mt-0\")\n",
        "\n",
        "  #this is finding an additional 20 jobs per page that are not visible on the site itself.\n",
        "  job_cards = results.find_all(class_=\"flex mb-2 border-black-900 rounded-md border-x-4 sm:rounded-lg\")\n",
        "\n",
        "\n",
        "  #[:job_limit] is required as non relevent jobs were being found in the site_html with the job_cards class after the 20~ jobs that were being show on the site.\n",
        "  # So I had to find how many jobs were being show in each page first and then limit the loop to only iterate up to that number of jobs.\n",
        "  for job in job_cards[:job_limit]:\n",
        "\n",
        "    job_title_url = job.find(\"a\", class_=\"text-blue-700 visited:text-grey-200 hover:underline\") \n",
        "    job_title = job_title_url.text\n",
        "    job_url = job_title_url[\"href\"]\n",
        "\n",
        "    company_name = job.find(class_=\"mt-0 mb-2 max-w-2xl text-sm text-black\").text \n",
        "\n",
        "    #This info was all on the fouth box class and needed to be seperated further for the relevent information to be extracted.\n",
        "    info_list = job.find_all(class_=\"col-span-12\") \n",
        "    salary = clean_bloat(info_list[0].text)\n",
        "    contract = clean_bloat(info_list[1].text)\n",
        "    location = clean_bloat(info_list[2].text)\n",
        "\n",
        "    new_row = {\"job_title\":job_title, \"company\":company_name, \"salary\":salary, \"contract\":contract, \"location\":location,\"job_url\":job_url}\n",
        "    jobs_df = jobs_df.append(new_row,ignore_index = True)\n",
        "  return jobs_df"
      ],
      "metadata": {
        "id": "9gfyVlh-r4TS"
      },
      "execution_count": 50,
      "outputs": []
    },
    {
      "cell_type": "markdown",
      "source": [
        "String manipulation funtions."
      ],
      "metadata": {
        "id": "qy4TyxFjDcgW"
      }
    },
    {
      "cell_type": "code",
      "source": [
        "#removes '\\n' and spaces from from names.\n",
        "def clean_bloat(text):\n",
        "  strip1 = text.replace(\"\\n\",\"\").replace(\"\\xa0\",\"\")\n",
        "  strip2 = strip1.strip(\" \")\n",
        "  return strip2\n",
        "\n",
        "#extracts information about numbers of jobs \n",
        "def return_jobs_pages(input_str):\n",
        "  p_j = input_str.split(\"of\") #[showing 1 to yy] , [xx jobs]\n",
        "  jobs_per_page = int(p_j[0].split(\"to\")[1]) #[yy]\n",
        "  total_jobs = int(p_j[1].split(\"Jobs\")[0]) #[xx]\n",
        "  \n",
        "  total_pages = int(np.ceil(total_jobs/jobs_per_page))\n",
        "\n",
        "  return total_jobs, jobs_per_page, total_pages"
      ],
      "metadata": {
        "id": "sUWfIcbWI3SD"
      },
      "execution_count": 51,
      "outputs": []
    },
    {
      "cell_type": "markdown",
      "source": [
        "The main function that calls to find out how many pages are needed to search over and stores the results of each iteration call."
      ],
      "metadata": {
        "id": "SOPwBYdi-a6U"
      }
    },
    {
      "cell_type": "code",
      "source": [
        "def jobsinkent_scrape(base_url):\n",
        "  #initialse the DF that will be used\n",
        "  jobsinkent_df = pd.DataFrame(data=[], columns = [\"job_title\", \"company\", \"salary\", \"contract\", \"location\",\"job_url\"])\n",
        "\n",
        "  #returns ALL the html from the site\n",
        "  site_html = get_html(base_url)\n",
        "\n",
        "  banner = site_html.find(\"p\", class_=\"text-sm text-gray-700 leading-5\") #~6th child within the top banner.\n",
        "  showing = banner.text # 'Showing 1 to yy of xx Jobs'\n",
        "\n",
        "  total_jobs, jobs_per_page, total_pages = return_jobs_pages(showing)\n",
        "\n",
        "  for page_no in range(1,total_pages+1):\n",
        "    #this if statment is required due to the issues mentioned above about job limits. It sets the jobs_limit variable to however many jobs there are displayed (visibly) on the page.\n",
        "    if page_no == total_pages:\n",
        "      jobs_limit = total_jobs%jobs_per_page\n",
        "    else:\n",
        "      jobs_limit = jobs_per_page\n",
        "\n",
        "    page_url = base_url + \"&page=\" + str(page_no)\n",
        "    new_df = jobsinkent_iterate(page_url, jobs_limit)\n",
        "    jobsinkent_df = jobsinkent_df.append(new_df, ignore_index=True)\n",
        "  \n",
        "    #user feedback  \n",
        "    print(\"page \",page_no, \" processed\")\n",
        "\n",
        "  return jobsinkent_df\n",
        "  \n",
        "jobsinkent_df = jobsinkent_scrape(jobsinkent_url)\n",
        "display(jobsinkent_df.head(5))"
      ],
      "metadata": {
        "colab": {
          "base_uri": "https://localhost:8080/",
          "height": 0
        },
        "id": "Vsag8HN2JKKy",
        "outputId": "cc8d81e1-4461-4d67-f0ff-795020f2f566"
      },
      "execution_count": 52,
      "outputs": [
        {
          "output_type": "stream",
          "name": "stdout",
          "text": [
            "page  1  processed\n",
            "page  2  processed\n",
            "page  3  processed\n"
          ]
        },
        {
          "output_type": "display_data",
          "data": {
            "text/plain": [
              "                           job_title                          company  \\\n",
              "0  Dispatch/Data Entry Administrator      Pearson Whiffin Recruitment   \n",
              "1              Data & Impact Analyst                      CXK Limited   \n",
              "2       Immediate Start - Data Entry                         Huntress   \n",
              "3                       Data Analyst  Hays Specialist Recruitment Ltd   \n",
              "4     Senior Data Governance Manager                  MW Appointments   \n",
              "\n",
              "                                              salary  \\\n",
              "0         £20000 - £22000 per annum + great benefits   \n",
              "1  £35,919 to £39,660 (depending on experience) (...   \n",
              "2                           £11.00 - £11.63 per hour   \n",
              "3                    £45000.00 - £50000.00 per annum   \n",
              "4             £90000 - £110000 per annum + + package   \n",
              "\n",
              "                        contract                        location  \\\n",
              "0            permanent,full-time             Sittingbourne, Kent   \n",
              "1  permanent,full-time/part-time                   Ashford, Kent   \n",
              "2            temporary,full-time                   Ashford, Kent   \n",
              "3            permanent,full-time                  Dartford, Kent   \n",
              "4            permanent,full-time  City of London, Greater London   \n",
              "\n",
              "                              job_url  \n",
              "0  https://jobsinkent.com/job/2044095  \n",
              "1  https://jobsinkent.com/job/2424927  \n",
              "2  https://jobsinkent.com/job/2389911  \n",
              "3  https://jobsinkent.com/job/2145570  \n",
              "4  https://jobsinkent.com/job/2053074  "
            ],
            "text/html": [
              "\n",
              "  <div id=\"df-e846cb5b-5766-40ad-a46d-62f78b7512a8\">\n",
              "    <div class=\"colab-df-container\">\n",
              "      <div>\n",
              "<style scoped>\n",
              "    .dataframe tbody tr th:only-of-type {\n",
              "        vertical-align: middle;\n",
              "    }\n",
              "\n",
              "    .dataframe tbody tr th {\n",
              "        vertical-align: top;\n",
              "    }\n",
              "\n",
              "    .dataframe thead th {\n",
              "        text-align: right;\n",
              "    }\n",
              "</style>\n",
              "<table border=\"1\" class=\"dataframe\">\n",
              "  <thead>\n",
              "    <tr style=\"text-align: right;\">\n",
              "      <th></th>\n",
              "      <th>job_title</th>\n",
              "      <th>company</th>\n",
              "      <th>salary</th>\n",
              "      <th>contract</th>\n",
              "      <th>location</th>\n",
              "      <th>job_url</th>\n",
              "    </tr>\n",
              "  </thead>\n",
              "  <tbody>\n",
              "    <tr>\n",
              "      <th>0</th>\n",
              "      <td>Dispatch/Data Entry Administrator</td>\n",
              "      <td>Pearson Whiffin Recruitment</td>\n",
              "      <td>£20000 - £22000 per annum + great benefits</td>\n",
              "      <td>permanent,full-time</td>\n",
              "      <td>Sittingbourne, Kent</td>\n",
              "      <td>https://jobsinkent.com/job/2044095</td>\n",
              "    </tr>\n",
              "    <tr>\n",
              "      <th>1</th>\n",
              "      <td>Data &amp; Impact Analyst</td>\n",
              "      <td>CXK Limited</td>\n",
              "      <td>£35,919 to £39,660 (depending on experience) (...</td>\n",
              "      <td>permanent,full-time/part-time</td>\n",
              "      <td>Ashford, Kent</td>\n",
              "      <td>https://jobsinkent.com/job/2424927</td>\n",
              "    </tr>\n",
              "    <tr>\n",
              "      <th>2</th>\n",
              "      <td>Immediate Start - Data Entry</td>\n",
              "      <td>Huntress</td>\n",
              "      <td>£11.00 - £11.63 per hour</td>\n",
              "      <td>temporary,full-time</td>\n",
              "      <td>Ashford, Kent</td>\n",
              "      <td>https://jobsinkent.com/job/2389911</td>\n",
              "    </tr>\n",
              "    <tr>\n",
              "      <th>3</th>\n",
              "      <td>Data Analyst</td>\n",
              "      <td>Hays Specialist Recruitment Ltd</td>\n",
              "      <td>£45000.00 - £50000.00 per annum</td>\n",
              "      <td>permanent,full-time</td>\n",
              "      <td>Dartford, Kent</td>\n",
              "      <td>https://jobsinkent.com/job/2145570</td>\n",
              "    </tr>\n",
              "    <tr>\n",
              "      <th>4</th>\n",
              "      <td>Senior Data Governance Manager</td>\n",
              "      <td>MW Appointments</td>\n",
              "      <td>£90000 - £110000 per annum + + package</td>\n",
              "      <td>permanent,full-time</td>\n",
              "      <td>City of London, Greater London</td>\n",
              "      <td>https://jobsinkent.com/job/2053074</td>\n",
              "    </tr>\n",
              "  </tbody>\n",
              "</table>\n",
              "</div>\n",
              "      <button class=\"colab-df-convert\" onclick=\"convertToInteractive('df-e846cb5b-5766-40ad-a46d-62f78b7512a8')\"\n",
              "              title=\"Convert this dataframe to an interactive table.\"\n",
              "              style=\"display:none;\">\n",
              "        \n",
              "  <svg xmlns=\"http://www.w3.org/2000/svg\" height=\"24px\"viewBox=\"0 0 24 24\"\n",
              "       width=\"24px\">\n",
              "    <path d=\"M0 0h24v24H0V0z\" fill=\"none\"/>\n",
              "    <path d=\"M18.56 5.44l.94 2.06.94-2.06 2.06-.94-2.06-.94-.94-2.06-.94 2.06-2.06.94zm-11 1L8.5 8.5l.94-2.06 2.06-.94-2.06-.94L8.5 2.5l-.94 2.06-2.06.94zm10 10l.94 2.06.94-2.06 2.06-.94-2.06-.94-.94-2.06-.94 2.06-2.06.94z\"/><path d=\"M17.41 7.96l-1.37-1.37c-.4-.4-.92-.59-1.43-.59-.52 0-1.04.2-1.43.59L10.3 9.45l-7.72 7.72c-.78.78-.78 2.05 0 2.83L4 21.41c.39.39.9.59 1.41.59.51 0 1.02-.2 1.41-.59l7.78-7.78 2.81-2.81c.8-.78.8-2.07 0-2.86zM5.41 20L4 18.59l7.72-7.72 1.47 1.35L5.41 20z\"/>\n",
              "  </svg>\n",
              "      </button>\n",
              "      \n",
              "  <style>\n",
              "    .colab-df-container {\n",
              "      display:flex;\n",
              "      flex-wrap:wrap;\n",
              "      gap: 12px;\n",
              "    }\n",
              "\n",
              "    .colab-df-convert {\n",
              "      background-color: #E8F0FE;\n",
              "      border: none;\n",
              "      border-radius: 50%;\n",
              "      cursor: pointer;\n",
              "      display: none;\n",
              "      fill: #1967D2;\n",
              "      height: 32px;\n",
              "      padding: 0 0 0 0;\n",
              "      width: 32px;\n",
              "    }\n",
              "\n",
              "    .colab-df-convert:hover {\n",
              "      background-color: #E2EBFA;\n",
              "      box-shadow: 0px 1px 2px rgba(60, 64, 67, 0.3), 0px 1px 3px 1px rgba(60, 64, 67, 0.15);\n",
              "      fill: #174EA6;\n",
              "    }\n",
              "\n",
              "    [theme=dark] .colab-df-convert {\n",
              "      background-color: #3B4455;\n",
              "      fill: #D2E3FC;\n",
              "    }\n",
              "\n",
              "    [theme=dark] .colab-df-convert:hover {\n",
              "      background-color: #434B5C;\n",
              "      box-shadow: 0px 1px 3px 1px rgba(0, 0, 0, 0.15);\n",
              "      filter: drop-shadow(0px 1px 2px rgba(0, 0, 0, 0.3));\n",
              "      fill: #FFFFFF;\n",
              "    }\n",
              "  </style>\n",
              "\n",
              "      <script>\n",
              "        const buttonEl =\n",
              "          document.querySelector('#df-e846cb5b-5766-40ad-a46d-62f78b7512a8 button.colab-df-convert');\n",
              "        buttonEl.style.display =\n",
              "          google.colab.kernel.accessAllowed ? 'block' : 'none';\n",
              "\n",
              "        async function convertToInteractive(key) {\n",
              "          const element = document.querySelector('#df-e846cb5b-5766-40ad-a46d-62f78b7512a8');\n",
              "          const dataTable =\n",
              "            await google.colab.kernel.invokeFunction('convertToInteractive',\n",
              "                                                     [key], {});\n",
              "          if (!dataTable) return;\n",
              "\n",
              "          const docLinkHtml = 'Like what you see? Visit the ' +\n",
              "            '<a target=\"_blank\" href=https://colab.research.google.com/notebooks/data_table.ipynb>data table notebook</a>'\n",
              "            + ' to learn more about interactive tables.';\n",
              "          element.innerHTML = '';\n",
              "          dataTable['output_type'] = 'display_data';\n",
              "          await google.colab.output.renderOutput(dataTable, element);\n",
              "          const docLink = document.createElement('div');\n",
              "          docLink.innerHTML = docLinkHtml;\n",
              "          element.appendChild(docLink);\n",
              "        }\n",
              "      </script>\n",
              "    </div>\n",
              "  </div>\n",
              "  "
            ]
          },
          "metadata": {}
        }
      ]
    },
    {
      "cell_type": "markdown",
      "source": [
        "Cleans the jobsinkent_df to be used later."
      ],
      "metadata": {
        "id": "c47hzOfRJku6"
      }
    },
    {
      "cell_type": "code",
      "source": [
        "jobsinkent_df = general_clean(jobsinkent_df,\"jobsinkent.com\",filter_term)"
      ],
      "metadata": {
        "id": "4QbSbRcSJlEV"
      },
      "execution_count": 53,
      "outputs": []
    },
    {
      "cell_type": "markdown",
      "source": [
        "#Combining both results\n",
        "---\n"
      ],
      "metadata": {
        "id": "kW11z72pKmed"
      }
    },
    {
      "cell_type": "markdown",
      "source": [
        "Combines the two DF's from JobsInKent"
      ],
      "metadata": {
        "id": "47bVltbM1Kqs"
      }
    },
    {
      "cell_type": "code",
      "source": [
        "data_jobs_df = pd.DataFrame()\n",
        "\n",
        "data_jobs_df = data_jobs_df.append([jobsinkent_df,reed_df],ignore_index=True)\n",
        "display(data_jobs_df.head())"
      ],
      "metadata": {
        "colab": {
          "base_uri": "https://localhost:8080/",
          "height": 206
        },
        "id": "A1jAk3srKp42",
        "outputId": "a6d795ff-a989-4072-c532-468243ba7bfb"
      },
      "execution_count": 54,
      "outputs": [
        {
          "output_type": "display_data",
          "data": {
            "text/plain": [
              "                           job_title                          company  \\\n",
              "0  Dispatch/Data Entry Administrator      Pearson Whiffin Recruitment   \n",
              "1              Data & Impact Analyst                      CXK Limited   \n",
              "2       Immediate Start - Data Entry                         Huntress   \n",
              "3                       Data Analyst  Hays Specialist Recruitment Ltd   \n",
              "4     Senior Data Governance Manager                  MW Appointments   \n",
              "\n",
              "                                              salary  \\\n",
              "0         £20000 - £22000 per annum + great benefits   \n",
              "1  £35,919 to £39,660 (depending on experience) (...   \n",
              "2                           £11.00 - £11.63 per hour   \n",
              "3                    £45000.00 - £50000.00 per annum   \n",
              "4             £90000 - £110000 per annum + + package   \n",
              "\n",
              "                        contract                        location  \\\n",
              "0            permanent,full-time             Sittingbourne, Kent   \n",
              "1  permanent,full-time/part-time                   Ashford, Kent   \n",
              "2            temporary,full-time                   Ashford, Kent   \n",
              "3            permanent,full-time                  Dartford, Kent   \n",
              "4            permanent,full-time  City of London, Greater London   \n",
              "\n",
              "                              job_url  date_found   advertised_on  \n",
              "0  https://jobsinkent.com/job/2044095  2022-11-18  jobsinkent.com  \n",
              "1  https://jobsinkent.com/job/2424927  2022-11-18  jobsinkent.com  \n",
              "2  https://jobsinkent.com/job/2389911  2022-11-18  jobsinkent.com  \n",
              "3  https://jobsinkent.com/job/2145570  2022-11-18  jobsinkent.com  \n",
              "4  https://jobsinkent.com/job/2053074  2022-11-18  jobsinkent.com  "
            ],
            "text/html": [
              "\n",
              "  <div id=\"df-f891d495-3813-4e45-b8b8-fdecc19f8178\">\n",
              "    <div class=\"colab-df-container\">\n",
              "      <div>\n",
              "<style scoped>\n",
              "    .dataframe tbody tr th:only-of-type {\n",
              "        vertical-align: middle;\n",
              "    }\n",
              "\n",
              "    .dataframe tbody tr th {\n",
              "        vertical-align: top;\n",
              "    }\n",
              "\n",
              "    .dataframe thead th {\n",
              "        text-align: right;\n",
              "    }\n",
              "</style>\n",
              "<table border=\"1\" class=\"dataframe\">\n",
              "  <thead>\n",
              "    <tr style=\"text-align: right;\">\n",
              "      <th></th>\n",
              "      <th>job_title</th>\n",
              "      <th>company</th>\n",
              "      <th>salary</th>\n",
              "      <th>contract</th>\n",
              "      <th>location</th>\n",
              "      <th>job_url</th>\n",
              "      <th>date_found</th>\n",
              "      <th>advertised_on</th>\n",
              "    </tr>\n",
              "  </thead>\n",
              "  <tbody>\n",
              "    <tr>\n",
              "      <th>0</th>\n",
              "      <td>Dispatch/Data Entry Administrator</td>\n",
              "      <td>Pearson Whiffin Recruitment</td>\n",
              "      <td>£20000 - £22000 per annum + great benefits</td>\n",
              "      <td>permanent,full-time</td>\n",
              "      <td>Sittingbourne, Kent</td>\n",
              "      <td>https://jobsinkent.com/job/2044095</td>\n",
              "      <td>2022-11-18</td>\n",
              "      <td>jobsinkent.com</td>\n",
              "    </tr>\n",
              "    <tr>\n",
              "      <th>1</th>\n",
              "      <td>Data &amp; Impact Analyst</td>\n",
              "      <td>CXK Limited</td>\n",
              "      <td>£35,919 to £39,660 (depending on experience) (...</td>\n",
              "      <td>permanent,full-time/part-time</td>\n",
              "      <td>Ashford, Kent</td>\n",
              "      <td>https://jobsinkent.com/job/2424927</td>\n",
              "      <td>2022-11-18</td>\n",
              "      <td>jobsinkent.com</td>\n",
              "    </tr>\n",
              "    <tr>\n",
              "      <th>2</th>\n",
              "      <td>Immediate Start - Data Entry</td>\n",
              "      <td>Huntress</td>\n",
              "      <td>£11.00 - £11.63 per hour</td>\n",
              "      <td>temporary,full-time</td>\n",
              "      <td>Ashford, Kent</td>\n",
              "      <td>https://jobsinkent.com/job/2389911</td>\n",
              "      <td>2022-11-18</td>\n",
              "      <td>jobsinkent.com</td>\n",
              "    </tr>\n",
              "    <tr>\n",
              "      <th>3</th>\n",
              "      <td>Data Analyst</td>\n",
              "      <td>Hays Specialist Recruitment Ltd</td>\n",
              "      <td>£45000.00 - £50000.00 per annum</td>\n",
              "      <td>permanent,full-time</td>\n",
              "      <td>Dartford, Kent</td>\n",
              "      <td>https://jobsinkent.com/job/2145570</td>\n",
              "      <td>2022-11-18</td>\n",
              "      <td>jobsinkent.com</td>\n",
              "    </tr>\n",
              "    <tr>\n",
              "      <th>4</th>\n",
              "      <td>Senior Data Governance Manager</td>\n",
              "      <td>MW Appointments</td>\n",
              "      <td>£90000 - £110000 per annum + + package</td>\n",
              "      <td>permanent,full-time</td>\n",
              "      <td>City of London, Greater London</td>\n",
              "      <td>https://jobsinkent.com/job/2053074</td>\n",
              "      <td>2022-11-18</td>\n",
              "      <td>jobsinkent.com</td>\n",
              "    </tr>\n",
              "  </tbody>\n",
              "</table>\n",
              "</div>\n",
              "      <button class=\"colab-df-convert\" onclick=\"convertToInteractive('df-f891d495-3813-4e45-b8b8-fdecc19f8178')\"\n",
              "              title=\"Convert this dataframe to an interactive table.\"\n",
              "              style=\"display:none;\">\n",
              "        \n",
              "  <svg xmlns=\"http://www.w3.org/2000/svg\" height=\"24px\"viewBox=\"0 0 24 24\"\n",
              "       width=\"24px\">\n",
              "    <path d=\"M0 0h24v24H0V0z\" fill=\"none\"/>\n",
              "    <path d=\"M18.56 5.44l.94 2.06.94-2.06 2.06-.94-2.06-.94-.94-2.06-.94 2.06-2.06.94zm-11 1L8.5 8.5l.94-2.06 2.06-.94-2.06-.94L8.5 2.5l-.94 2.06-2.06.94zm10 10l.94 2.06.94-2.06 2.06-.94-2.06-.94-.94-2.06-.94 2.06-2.06.94z\"/><path d=\"M17.41 7.96l-1.37-1.37c-.4-.4-.92-.59-1.43-.59-.52 0-1.04.2-1.43.59L10.3 9.45l-7.72 7.72c-.78.78-.78 2.05 0 2.83L4 21.41c.39.39.9.59 1.41.59.51 0 1.02-.2 1.41-.59l7.78-7.78 2.81-2.81c.8-.78.8-2.07 0-2.86zM5.41 20L4 18.59l7.72-7.72 1.47 1.35L5.41 20z\"/>\n",
              "  </svg>\n",
              "      </button>\n",
              "      \n",
              "  <style>\n",
              "    .colab-df-container {\n",
              "      display:flex;\n",
              "      flex-wrap:wrap;\n",
              "      gap: 12px;\n",
              "    }\n",
              "\n",
              "    .colab-df-convert {\n",
              "      background-color: #E8F0FE;\n",
              "      border: none;\n",
              "      border-radius: 50%;\n",
              "      cursor: pointer;\n",
              "      display: none;\n",
              "      fill: #1967D2;\n",
              "      height: 32px;\n",
              "      padding: 0 0 0 0;\n",
              "      width: 32px;\n",
              "    }\n",
              "\n",
              "    .colab-df-convert:hover {\n",
              "      background-color: #E2EBFA;\n",
              "      box-shadow: 0px 1px 2px rgba(60, 64, 67, 0.3), 0px 1px 3px 1px rgba(60, 64, 67, 0.15);\n",
              "      fill: #174EA6;\n",
              "    }\n",
              "\n",
              "    [theme=dark] .colab-df-convert {\n",
              "      background-color: #3B4455;\n",
              "      fill: #D2E3FC;\n",
              "    }\n",
              "\n",
              "    [theme=dark] .colab-df-convert:hover {\n",
              "      background-color: #434B5C;\n",
              "      box-shadow: 0px 1px 3px 1px rgba(0, 0, 0, 0.15);\n",
              "      filter: drop-shadow(0px 1px 2px rgba(0, 0, 0, 0.3));\n",
              "      fill: #FFFFFF;\n",
              "    }\n",
              "  </style>\n",
              "\n",
              "      <script>\n",
              "        const buttonEl =\n",
              "          document.querySelector('#df-f891d495-3813-4e45-b8b8-fdecc19f8178 button.colab-df-convert');\n",
              "        buttonEl.style.display =\n",
              "          google.colab.kernel.accessAllowed ? 'block' : 'none';\n",
              "\n",
              "        async function convertToInteractive(key) {\n",
              "          const element = document.querySelector('#df-f891d495-3813-4e45-b8b8-fdecc19f8178');\n",
              "          const dataTable =\n",
              "            await google.colab.kernel.invokeFunction('convertToInteractive',\n",
              "                                                     [key], {});\n",
              "          if (!dataTable) return;\n",
              "\n",
              "          const docLinkHtml = 'Like what you see? Visit the ' +\n",
              "            '<a target=\"_blank\" href=https://colab.research.google.com/notebooks/data_table.ipynb>data table notebook</a>'\n",
              "            + ' to learn more about interactive tables.';\n",
              "          element.innerHTML = '';\n",
              "          dataTable['output_type'] = 'display_data';\n",
              "          await google.colab.output.renderOutput(dataTable, element);\n",
              "          const docLink = document.createElement('div');\n",
              "          docLink.innerHTML = docLinkHtml;\n",
              "          element.appendChild(docLink);\n",
              "        }\n",
              "      </script>\n",
              "    </div>\n",
              "  </div>\n",
              "  "
            ]
          },
          "metadata": {}
        }
      ]
    },
    {
      "cell_type": "code",
      "source": [
        "def importing_recruiters(recruiters_list_test,save_path):\n",
        "  \n",
        "  if recruiters_list_test == \"yes\":\n",
        "    print(\"loading from Drive\")\n",
        "    drive.mount('/content/drive')\n",
        "    list_of_recruiters = pd.read_csv(\"/content/drive/MyDrive/\" + save_path + \"/recruiters_list.csv\")\n",
        "    display(list_of_recruiters)\n",
        "    drive.flush_and_unmount\n",
        "  else:\n",
        "    print(\"loading from GitHub\")\n",
        "    list_of_recruiters = pd.read_csv(\"https://raw.githubusercontent.com/futureCodersSE/data-roles/main/datasets/recruiters_list.csv\")\n",
        "\n",
        "  return list_of_recruiters\n",
        "\n",
        "list_of_recruiters = importing_recruiters(recruiters_list_test,save_path)\n",
        "display(list_of_recruiters)"
      ],
      "metadata": {
        "colab": {
          "base_uri": "https://localhost:8080/",
          "height": 1000
        },
        "id": "2jrsKgNDlXvp",
        "outputId": "55753549-85dd-478c-e649-a8532110b37a"
      },
      "execution_count": 55,
      "outputs": [
        {
          "output_type": "stream",
          "name": "stdout",
          "text": [
            "loading from Drive\n",
            "Mounted at /content/drive\n"
          ]
        },
        {
          "output_type": "display_data",
          "data": {
            "text/plain": [
              "                                 company\n",
              "0            Pearson Whiffin Recruitment\n",
              "1        Hays Specialist Recruitment Ltd\n",
              "2   Recruitment Solutions Folkestone Ltd\n",
              "3                Atlas Recruitment Group\n",
              "4            Reed Specialist Recruitment\n",
              "5       Barker Munro Recruitment Limited\n",
              "6   Recruitment Solutions South East Ltd\n",
              "7          KHR - Recruitment Specialists\n",
              "8            Hays Specialist Recruitment\n",
              "9                Kent Recruitment Bureau\n",
              "10   Hays Specialist Recruitment Limited\n",
              "11       Pearson Whiffin Recruitment Ltd\n",
              "12                 4Recruitment Services\n",
              "13        Lloyd Recruitment Services Ltd\n",
              "14                    Steria Recruitment\n",
              "15                 Recruitment Solutions\n",
              "16                              Huntress\n",
              "17                       MW Appointments\n",
              "18                         Connect2Staff\n",
              "19                         Office Angels\n",
              "20                          GerrardWhite\n",
              "21                                  Reed\n",
              "22                       Morgan McKinley\n",
              "23                      OBJECTIVE HR LTD\n",
              "24                Commercial Services HR"
            ],
            "text/html": [
              "\n",
              "  <div id=\"df-b8c448cf-849c-49bb-a014-5c0c58e155d0\">\n",
              "    <div class=\"colab-df-container\">\n",
              "      <div>\n",
              "<style scoped>\n",
              "    .dataframe tbody tr th:only-of-type {\n",
              "        vertical-align: middle;\n",
              "    }\n",
              "\n",
              "    .dataframe tbody tr th {\n",
              "        vertical-align: top;\n",
              "    }\n",
              "\n",
              "    .dataframe thead th {\n",
              "        text-align: right;\n",
              "    }\n",
              "</style>\n",
              "<table border=\"1\" class=\"dataframe\">\n",
              "  <thead>\n",
              "    <tr style=\"text-align: right;\">\n",
              "      <th></th>\n",
              "      <th>company</th>\n",
              "    </tr>\n",
              "  </thead>\n",
              "  <tbody>\n",
              "    <tr>\n",
              "      <th>0</th>\n",
              "      <td>Pearson Whiffin Recruitment</td>\n",
              "    </tr>\n",
              "    <tr>\n",
              "      <th>1</th>\n",
              "      <td>Hays Specialist Recruitment Ltd</td>\n",
              "    </tr>\n",
              "    <tr>\n",
              "      <th>2</th>\n",
              "      <td>Recruitment Solutions Folkestone Ltd</td>\n",
              "    </tr>\n",
              "    <tr>\n",
              "      <th>3</th>\n",
              "      <td>Atlas Recruitment Group</td>\n",
              "    </tr>\n",
              "    <tr>\n",
              "      <th>4</th>\n",
              "      <td>Reed Specialist Recruitment</td>\n",
              "    </tr>\n",
              "    <tr>\n",
              "      <th>5</th>\n",
              "      <td>Barker Munro Recruitment Limited</td>\n",
              "    </tr>\n",
              "    <tr>\n",
              "      <th>6</th>\n",
              "      <td>Recruitment Solutions South East Ltd</td>\n",
              "    </tr>\n",
              "    <tr>\n",
              "      <th>7</th>\n",
              "      <td>KHR - Recruitment Specialists</td>\n",
              "    </tr>\n",
              "    <tr>\n",
              "      <th>8</th>\n",
              "      <td>Hays Specialist Recruitment</td>\n",
              "    </tr>\n",
              "    <tr>\n",
              "      <th>9</th>\n",
              "      <td>Kent Recruitment Bureau</td>\n",
              "    </tr>\n",
              "    <tr>\n",
              "      <th>10</th>\n",
              "      <td>Hays Specialist Recruitment Limited</td>\n",
              "    </tr>\n",
              "    <tr>\n",
              "      <th>11</th>\n",
              "      <td>Pearson Whiffin Recruitment Ltd</td>\n",
              "    </tr>\n",
              "    <tr>\n",
              "      <th>12</th>\n",
              "      <td>4Recruitment Services</td>\n",
              "    </tr>\n",
              "    <tr>\n",
              "      <th>13</th>\n",
              "      <td>Lloyd Recruitment Services Ltd</td>\n",
              "    </tr>\n",
              "    <tr>\n",
              "      <th>14</th>\n",
              "      <td>Steria Recruitment</td>\n",
              "    </tr>\n",
              "    <tr>\n",
              "      <th>15</th>\n",
              "      <td>Recruitment Solutions</td>\n",
              "    </tr>\n",
              "    <tr>\n",
              "      <th>16</th>\n",
              "      <td>Huntress</td>\n",
              "    </tr>\n",
              "    <tr>\n",
              "      <th>17</th>\n",
              "      <td>MW Appointments</td>\n",
              "    </tr>\n",
              "    <tr>\n",
              "      <th>18</th>\n",
              "      <td>Connect2Staff</td>\n",
              "    </tr>\n",
              "    <tr>\n",
              "      <th>19</th>\n",
              "      <td>Office Angels</td>\n",
              "    </tr>\n",
              "    <tr>\n",
              "      <th>20</th>\n",
              "      <td>GerrardWhite</td>\n",
              "    </tr>\n",
              "    <tr>\n",
              "      <th>21</th>\n",
              "      <td>Reed</td>\n",
              "    </tr>\n",
              "    <tr>\n",
              "      <th>22</th>\n",
              "      <td>Morgan McKinley</td>\n",
              "    </tr>\n",
              "    <tr>\n",
              "      <th>23</th>\n",
              "      <td>OBJECTIVE HR LTD</td>\n",
              "    </tr>\n",
              "    <tr>\n",
              "      <th>24</th>\n",
              "      <td>Commercial Services HR</td>\n",
              "    </tr>\n",
              "  </tbody>\n",
              "</table>\n",
              "</div>\n",
              "      <button class=\"colab-df-convert\" onclick=\"convertToInteractive('df-b8c448cf-849c-49bb-a014-5c0c58e155d0')\"\n",
              "              title=\"Convert this dataframe to an interactive table.\"\n",
              "              style=\"display:none;\">\n",
              "        \n",
              "  <svg xmlns=\"http://www.w3.org/2000/svg\" height=\"24px\"viewBox=\"0 0 24 24\"\n",
              "       width=\"24px\">\n",
              "    <path d=\"M0 0h24v24H0V0z\" fill=\"none\"/>\n",
              "    <path d=\"M18.56 5.44l.94 2.06.94-2.06 2.06-.94-2.06-.94-.94-2.06-.94 2.06-2.06.94zm-11 1L8.5 8.5l.94-2.06 2.06-.94-2.06-.94L8.5 2.5l-.94 2.06-2.06.94zm10 10l.94 2.06.94-2.06 2.06-.94-2.06-.94-.94-2.06-.94 2.06-2.06.94z\"/><path d=\"M17.41 7.96l-1.37-1.37c-.4-.4-.92-.59-1.43-.59-.52 0-1.04.2-1.43.59L10.3 9.45l-7.72 7.72c-.78.78-.78 2.05 0 2.83L4 21.41c.39.39.9.59 1.41.59.51 0 1.02-.2 1.41-.59l7.78-7.78 2.81-2.81c.8-.78.8-2.07 0-2.86zM5.41 20L4 18.59l7.72-7.72 1.47 1.35L5.41 20z\"/>\n",
              "  </svg>\n",
              "      </button>\n",
              "      \n",
              "  <style>\n",
              "    .colab-df-container {\n",
              "      display:flex;\n",
              "      flex-wrap:wrap;\n",
              "      gap: 12px;\n",
              "    }\n",
              "\n",
              "    .colab-df-convert {\n",
              "      background-color: #E8F0FE;\n",
              "      border: none;\n",
              "      border-radius: 50%;\n",
              "      cursor: pointer;\n",
              "      display: none;\n",
              "      fill: #1967D2;\n",
              "      height: 32px;\n",
              "      padding: 0 0 0 0;\n",
              "      width: 32px;\n",
              "    }\n",
              "\n",
              "    .colab-df-convert:hover {\n",
              "      background-color: #E2EBFA;\n",
              "      box-shadow: 0px 1px 2px rgba(60, 64, 67, 0.3), 0px 1px 3px 1px rgba(60, 64, 67, 0.15);\n",
              "      fill: #174EA6;\n",
              "    }\n",
              "\n",
              "    [theme=dark] .colab-df-convert {\n",
              "      background-color: #3B4455;\n",
              "      fill: #D2E3FC;\n",
              "    }\n",
              "\n",
              "    [theme=dark] .colab-df-convert:hover {\n",
              "      background-color: #434B5C;\n",
              "      box-shadow: 0px 1px 3px 1px rgba(0, 0, 0, 0.15);\n",
              "      filter: drop-shadow(0px 1px 2px rgba(0, 0, 0, 0.3));\n",
              "      fill: #FFFFFF;\n",
              "    }\n",
              "  </style>\n",
              "\n",
              "      <script>\n",
              "        const buttonEl =\n",
              "          document.querySelector('#df-b8c448cf-849c-49bb-a014-5c0c58e155d0 button.colab-df-convert');\n",
              "        buttonEl.style.display =\n",
              "          google.colab.kernel.accessAllowed ? 'block' : 'none';\n",
              "\n",
              "        async function convertToInteractive(key) {\n",
              "          const element = document.querySelector('#df-b8c448cf-849c-49bb-a014-5c0c58e155d0');\n",
              "          const dataTable =\n",
              "            await google.colab.kernel.invokeFunction('convertToInteractive',\n",
              "                                                     [key], {});\n",
              "          if (!dataTable) return;\n",
              "\n",
              "          const docLinkHtml = 'Like what you see? Visit the ' +\n",
              "            '<a target=\"_blank\" href=https://colab.research.google.com/notebooks/data_table.ipynb>data table notebook</a>'\n",
              "            + ' to learn more about interactive tables.';\n",
              "          element.innerHTML = '';\n",
              "          dataTable['output_type'] = 'display_data';\n",
              "          await google.colab.output.renderOutput(dataTable, element);\n",
              "          const docLink = document.createElement('div');\n",
              "          docLink.innerHTML = docLinkHtml;\n",
              "          element.appendChild(docLink);\n",
              "        }\n",
              "      </script>\n",
              "    </div>\n",
              "  </div>\n",
              "  "
            ]
          },
          "metadata": {}
        },
        {
          "output_type": "display_data",
          "data": {
            "text/plain": [
              "                                 company\n",
              "0            Pearson Whiffin Recruitment\n",
              "1        Hays Specialist Recruitment Ltd\n",
              "2   Recruitment Solutions Folkestone Ltd\n",
              "3                Atlas Recruitment Group\n",
              "4            Reed Specialist Recruitment\n",
              "5       Barker Munro Recruitment Limited\n",
              "6   Recruitment Solutions South East Ltd\n",
              "7          KHR - Recruitment Specialists\n",
              "8            Hays Specialist Recruitment\n",
              "9                Kent Recruitment Bureau\n",
              "10   Hays Specialist Recruitment Limited\n",
              "11       Pearson Whiffin Recruitment Ltd\n",
              "12                 4Recruitment Services\n",
              "13        Lloyd Recruitment Services Ltd\n",
              "14                    Steria Recruitment\n",
              "15                 Recruitment Solutions\n",
              "16                              Huntress\n",
              "17                       MW Appointments\n",
              "18                         Connect2Staff\n",
              "19                         Office Angels\n",
              "20                          GerrardWhite\n",
              "21                                  Reed\n",
              "22                       Morgan McKinley\n",
              "23                      OBJECTIVE HR LTD\n",
              "24                Commercial Services HR"
            ],
            "text/html": [
              "\n",
              "  <div id=\"df-31e25d43-387a-48d8-9abf-f4a90d634833\">\n",
              "    <div class=\"colab-df-container\">\n",
              "      <div>\n",
              "<style scoped>\n",
              "    .dataframe tbody tr th:only-of-type {\n",
              "        vertical-align: middle;\n",
              "    }\n",
              "\n",
              "    .dataframe tbody tr th {\n",
              "        vertical-align: top;\n",
              "    }\n",
              "\n",
              "    .dataframe thead th {\n",
              "        text-align: right;\n",
              "    }\n",
              "</style>\n",
              "<table border=\"1\" class=\"dataframe\">\n",
              "  <thead>\n",
              "    <tr style=\"text-align: right;\">\n",
              "      <th></th>\n",
              "      <th>company</th>\n",
              "    </tr>\n",
              "  </thead>\n",
              "  <tbody>\n",
              "    <tr>\n",
              "      <th>0</th>\n",
              "      <td>Pearson Whiffin Recruitment</td>\n",
              "    </tr>\n",
              "    <tr>\n",
              "      <th>1</th>\n",
              "      <td>Hays Specialist Recruitment Ltd</td>\n",
              "    </tr>\n",
              "    <tr>\n",
              "      <th>2</th>\n",
              "      <td>Recruitment Solutions Folkestone Ltd</td>\n",
              "    </tr>\n",
              "    <tr>\n",
              "      <th>3</th>\n",
              "      <td>Atlas Recruitment Group</td>\n",
              "    </tr>\n",
              "    <tr>\n",
              "      <th>4</th>\n",
              "      <td>Reed Specialist Recruitment</td>\n",
              "    </tr>\n",
              "    <tr>\n",
              "      <th>5</th>\n",
              "      <td>Barker Munro Recruitment Limited</td>\n",
              "    </tr>\n",
              "    <tr>\n",
              "      <th>6</th>\n",
              "      <td>Recruitment Solutions South East Ltd</td>\n",
              "    </tr>\n",
              "    <tr>\n",
              "      <th>7</th>\n",
              "      <td>KHR - Recruitment Specialists</td>\n",
              "    </tr>\n",
              "    <tr>\n",
              "      <th>8</th>\n",
              "      <td>Hays Specialist Recruitment</td>\n",
              "    </tr>\n",
              "    <tr>\n",
              "      <th>9</th>\n",
              "      <td>Kent Recruitment Bureau</td>\n",
              "    </tr>\n",
              "    <tr>\n",
              "      <th>10</th>\n",
              "      <td>Hays Specialist Recruitment Limited</td>\n",
              "    </tr>\n",
              "    <tr>\n",
              "      <th>11</th>\n",
              "      <td>Pearson Whiffin Recruitment Ltd</td>\n",
              "    </tr>\n",
              "    <tr>\n",
              "      <th>12</th>\n",
              "      <td>4Recruitment Services</td>\n",
              "    </tr>\n",
              "    <tr>\n",
              "      <th>13</th>\n",
              "      <td>Lloyd Recruitment Services Ltd</td>\n",
              "    </tr>\n",
              "    <tr>\n",
              "      <th>14</th>\n",
              "      <td>Steria Recruitment</td>\n",
              "    </tr>\n",
              "    <tr>\n",
              "      <th>15</th>\n",
              "      <td>Recruitment Solutions</td>\n",
              "    </tr>\n",
              "    <tr>\n",
              "      <th>16</th>\n",
              "      <td>Huntress</td>\n",
              "    </tr>\n",
              "    <tr>\n",
              "      <th>17</th>\n",
              "      <td>MW Appointments</td>\n",
              "    </tr>\n",
              "    <tr>\n",
              "      <th>18</th>\n",
              "      <td>Connect2Staff</td>\n",
              "    </tr>\n",
              "    <tr>\n",
              "      <th>19</th>\n",
              "      <td>Office Angels</td>\n",
              "    </tr>\n",
              "    <tr>\n",
              "      <th>20</th>\n",
              "      <td>GerrardWhite</td>\n",
              "    </tr>\n",
              "    <tr>\n",
              "      <th>21</th>\n",
              "      <td>Reed</td>\n",
              "    </tr>\n",
              "    <tr>\n",
              "      <th>22</th>\n",
              "      <td>Morgan McKinley</td>\n",
              "    </tr>\n",
              "    <tr>\n",
              "      <th>23</th>\n",
              "      <td>OBJECTIVE HR LTD</td>\n",
              "    </tr>\n",
              "    <tr>\n",
              "      <th>24</th>\n",
              "      <td>Commercial Services HR</td>\n",
              "    </tr>\n",
              "  </tbody>\n",
              "</table>\n",
              "</div>\n",
              "      <button class=\"colab-df-convert\" onclick=\"convertToInteractive('df-31e25d43-387a-48d8-9abf-f4a90d634833')\"\n",
              "              title=\"Convert this dataframe to an interactive table.\"\n",
              "              style=\"display:none;\">\n",
              "        \n",
              "  <svg xmlns=\"http://www.w3.org/2000/svg\" height=\"24px\"viewBox=\"0 0 24 24\"\n",
              "       width=\"24px\">\n",
              "    <path d=\"M0 0h24v24H0V0z\" fill=\"none\"/>\n",
              "    <path d=\"M18.56 5.44l.94 2.06.94-2.06 2.06-.94-2.06-.94-.94-2.06-.94 2.06-2.06.94zm-11 1L8.5 8.5l.94-2.06 2.06-.94-2.06-.94L8.5 2.5l-.94 2.06-2.06.94zm10 10l.94 2.06.94-2.06 2.06-.94-2.06-.94-.94-2.06-.94 2.06-2.06.94z\"/><path d=\"M17.41 7.96l-1.37-1.37c-.4-.4-.92-.59-1.43-.59-.52 0-1.04.2-1.43.59L10.3 9.45l-7.72 7.72c-.78.78-.78 2.05 0 2.83L4 21.41c.39.39.9.59 1.41.59.51 0 1.02-.2 1.41-.59l7.78-7.78 2.81-2.81c.8-.78.8-2.07 0-2.86zM5.41 20L4 18.59l7.72-7.72 1.47 1.35L5.41 20z\"/>\n",
              "  </svg>\n",
              "      </button>\n",
              "      \n",
              "  <style>\n",
              "    .colab-df-container {\n",
              "      display:flex;\n",
              "      flex-wrap:wrap;\n",
              "      gap: 12px;\n",
              "    }\n",
              "\n",
              "    .colab-df-convert {\n",
              "      background-color: #E8F0FE;\n",
              "      border: none;\n",
              "      border-radius: 50%;\n",
              "      cursor: pointer;\n",
              "      display: none;\n",
              "      fill: #1967D2;\n",
              "      height: 32px;\n",
              "      padding: 0 0 0 0;\n",
              "      width: 32px;\n",
              "    }\n",
              "\n",
              "    .colab-df-convert:hover {\n",
              "      background-color: #E2EBFA;\n",
              "      box-shadow: 0px 1px 2px rgba(60, 64, 67, 0.3), 0px 1px 3px 1px rgba(60, 64, 67, 0.15);\n",
              "      fill: #174EA6;\n",
              "    }\n",
              "\n",
              "    [theme=dark] .colab-df-convert {\n",
              "      background-color: #3B4455;\n",
              "      fill: #D2E3FC;\n",
              "    }\n",
              "\n",
              "    [theme=dark] .colab-df-convert:hover {\n",
              "      background-color: #434B5C;\n",
              "      box-shadow: 0px 1px 3px 1px rgba(0, 0, 0, 0.15);\n",
              "      filter: drop-shadow(0px 1px 2px rgba(0, 0, 0, 0.3));\n",
              "      fill: #FFFFFF;\n",
              "    }\n",
              "  </style>\n",
              "\n",
              "      <script>\n",
              "        const buttonEl =\n",
              "          document.querySelector('#df-31e25d43-387a-48d8-9abf-f4a90d634833 button.colab-df-convert');\n",
              "        buttonEl.style.display =\n",
              "          google.colab.kernel.accessAllowed ? 'block' : 'none';\n",
              "\n",
              "        async function convertToInteractive(key) {\n",
              "          const element = document.querySelector('#df-31e25d43-387a-48d8-9abf-f4a90d634833');\n",
              "          const dataTable =\n",
              "            await google.colab.kernel.invokeFunction('convertToInteractive',\n",
              "                                                     [key], {});\n",
              "          if (!dataTable) return;\n",
              "\n",
              "          const docLinkHtml = 'Like what you see? Visit the ' +\n",
              "            '<a target=\"_blank\" href=https://colab.research.google.com/notebooks/data_table.ipynb>data table notebook</a>'\n",
              "            + ' to learn more about interactive tables.';\n",
              "          element.innerHTML = '';\n",
              "          dataTable['output_type'] = 'display_data';\n",
              "          await google.colab.output.renderOutput(dataTable, element);\n",
              "          const docLink = document.createElement('div');\n",
              "          docLink.innerHTML = docLinkHtml;\n",
              "          element.appendChild(docLink);\n",
              "        }\n",
              "      </script>\n",
              "    </div>\n",
              "  </div>\n",
              "  "
            ]
          },
          "metadata": {}
        }
      ]
    },
    {
      "cell_type": "markdown",
      "source": [
        "This returns a **unique** list of recruiters and compaies who are advertiseing data roles"
      ],
      "metadata": {
        "id": "A_Ke9HwHMJ0C"
      }
    },
    {
      "cell_type": "code",
      "source": [
        "def find_company_lists1(initail_df):\n",
        "  recruiters_list = list_of_recruiters[\"company\"]\n",
        "  data_jobs_employer_names = initail_df.drop_duplicates(subset = \"company\")\n",
        "\n",
        "  companies_df = data_jobs_employer_names.drop( data_jobs_employer_names[data_jobs_employer_names[\"company\"].isin(recruiters_list) == True ].index)\n",
        "  companies_list = companies_df[\"company\"]\n",
        "\n",
        "  return companies_list, recruiters_list\n",
        "\n",
        "companies_list, recruiters_list = find_company_lists1(data_jobs_df)\n"
      ],
      "metadata": {
        "id": "VPA44suO9dmz"
      },
      "execution_count": 56,
      "outputs": []
    },
    {
      "cell_type": "markdown",
      "source": [
        "This function takes the list of known Recruitment Agencies from GitHub and splits the DataFrame and return the list of know Recruitment Agencies and Companies that are in that DataFrame"
      ],
      "metadata": {
        "id": "Y7eVdVqC978d"
      }
    },
    {
      "cell_type": "code",
      "source": [
        "def find_company_lists():\n",
        "  data_jobs_employer_names = data_jobs_df.drop_duplicates(subset = \"company\") #data_jobs_df[\"company\"].unique()\n",
        "\n",
        "  #seperating out all recruitment companies from the list\n",
        "  companies_df = data_jobs_employer_names.drop( data_jobs_employer_names[ data_jobs_employer_names[\"company\"].str.contains(\"Recruit\")==True].index)\n",
        "\n",
        "  #This requires going through each company and deciding if they are a recruitment agency or not if they dont have 'Recruit' in their name and adding them to the list.\n",
        "  additional_recruiter_list = [\"Reed\",\"OnetoOne Personnel\",\"Huntress\",\"MW Appointments\",\"P3 Search & Selection\",\"Manpower - Ashford\",\"Morgan McKinley\",\"Brook Street\",\"McGregor Boyall\",\"SAGA\",\"Office Angels\",\"REED\",\n",
        "                            \"Commercial Services Interim & Executive Search\",\"Harnham\",\"Connect2Staff\",\"Senitor Associates\",\"Zorba Consulting Limited\",\"GerrardWhite\",\"Lorien\",\"Morgan Law\", \"Academics\",\"eFinancialCareers\",\n",
        "                            \"Commercial Services HR\", \"OBJECTIVE HR LTD\" ]\n",
        "  it_specialits = [\"Senitor Associates\",\"Zorba Consulting Limited\",\"GerrardWhite\",\"Lorien\",\"eFinancialCareers\"]\n",
        "\n",
        "  companies_df = companies_df.drop( companies_df[companies_df[\"company\"].isin(additional_recruiter_list) == True ].index)\n",
        "  companies_list = companies_df[\"company\"]\n",
        "\n",
        "  recruiters_df1 = data_jobs_employer_names.drop( data_jobs_employer_names[ data_jobs_employer_names[\"company\"].str.contains(\"Recruit\")==False].index) #drop 'Recruit' is not in name\n",
        "  recruiters_df2 = data_jobs_employer_names.drop( data_jobs_employer_names[data_jobs_employer_names[\"company\"].isin(additional_recruiter_list) == False ].index) #drop if company is not in 'additional_drop_list'\n",
        "\n",
        "  recruiters_df = recruiters_df1.append(recruiters_df2,ignore_index=True) #combine the two sets of lists\n",
        "  recruiters_list = recruiters_df[\"company\"]\n",
        "\n",
        "  return companies_list, recruiters_list\n",
        "\n",
        "companies_list, recruiters_list = find_company_lists()"
      ],
      "metadata": {
        "id": "BFpCe9WMMKEy"
      },
      "execution_count": 57,
      "outputs": []
    },
    {
      "cell_type": "markdown",
      "source": [
        "This function prints the list of Companies for the user to manually check if they are Recruitment Agencies. By entering in the index of any suspected recruitment agancies, these are dropped from companies list and added to the recruiters list.   \n",
        "\n",
        "User Input: \"2,14,20...\" or \"2, 14, 20...\""
      ],
      "metadata": {
        "id": "UNAwTH46s3MU"
      }
    },
    {
      "cell_type": "code",
      "source": [
        "companies_list = companies_list.reset_index()[\"company\"]\n",
        "\n",
        "full_recruiters_series = pd.Series([])\n",
        "\n",
        "def find_more_recruiters(companies_list, recruiters_found):\n",
        "  all_checked = False\n",
        "  n = 0 #counter\n",
        "  while all_checked != True:\n",
        "    list_max = len(companies_list)\n",
        "    print(\"companies to check: \",list_max)\n",
        "\n",
        "    print(n)\n",
        "    while n+20 <= list_max:\n",
        "\n",
        "      for i in range(n,n+20):   #company in companies_list[n:n+5]:\n",
        "        print(i, companies_list[i])\n",
        "\n",
        "      recruiter_index_str = input(\"Enter the Index of a Recruitment Agencies on this list or type 'no' to contiune \")\n",
        "\n",
        "      if recruiter_index_str.lower() == \"no\":\n",
        "        n += 20\n",
        "      else:\n",
        "        recruiter_index_list = recruiter_index_str.replace(\" \",\"\").split(\",\")\n",
        "        recruiter_index_ints = [eval(x) for x in recruiter_index_list]\n",
        "\n",
        "        drop_index_S = pd.Series( [ companies_list.loc[recruiter_index_ints] ] )\n",
        "        print(drop_index_S[0])\n",
        "\n",
        "        recruiters_found = recruiters_found.append(drop_index_S[0], ignore_index=True)\n",
        "        companies_list.drop(recruiter_index_ints, inplace = True)\n",
        "        companies_list = companies_list.reset_index()[\"company\"]\n",
        "        list_max -= len(drop_index_S[0])\n",
        "      ###########\n",
        "      #End of Inner While Statment.\n",
        "      ###########\n",
        "\n",
        "    for i in range(n,list_max):\n",
        "      print(i, companies_list[i])\n",
        "\n",
        "    recruiter_index_str = input(\"Enter the Index of a Recruitment Agencies on this list or type 'no' to contiune \")\n",
        "\n",
        "    if recruiter_index_str == \"no\":\n",
        "      all_checked = True\n",
        "      print(\"All Companies Have Been Checked!\")\n",
        "      print(\"droped companies: \")\n",
        "      display(recruiters_found)\n",
        "      ###########\n",
        "      #End of Outer While Statment.\n",
        "      ###########\n",
        "    else:\n",
        "        recruiter_index_list = recruiter_index_str.replace(\" \",\"\").split(\",\")\n",
        "        recruiter_index_ints = [eval(x) for x in recruiter_index_list]\n",
        "\n",
        "        drop_index_S = pd.Series( [ companies_list.loc[recruiter_index_ints] ] )\n",
        "        print(drop_index_S[0])\n",
        "\n",
        "        recruiters_found = recruiters_found.append(drop_index_S[0], ignore_index=True)\n",
        "        companies_list.drop(recruiter_index_ints, inplace = True)\n",
        "        companies_list = companies_list.reset_index()[\"company\"]\n",
        "        list_max -= len(drop_index_S[0])\n",
        "\n",
        "\n",
        "  return companies_list, recruiters_found\n",
        "\n",
        "\n",
        "companies_list, recruiters_found = find_more_recruiters(companies_list, full_recruiters_series)\n",
        "\n"
      ],
      "metadata": {
        "colab": {
          "base_uri": "https://localhost:8080/",
          "height": 746
        },
        "id": "LTxKu7rRgVOK",
        "outputId": "be5be6a3-c952-45b8-c651-34ef5cee93fc"
      },
      "execution_count": 58,
      "outputs": [
        {
          "output_type": "stream",
          "name": "stderr",
          "text": [
            "/usr/local/lib/python3.7/dist-packages/ipykernel_launcher.py:3: DeprecationWarning: The default dtype for empty Series will be 'object' instead of 'float64' in a future version. Specify a dtype explicitly to silence this warning.\n",
            "  This is separate from the ipykernel package so we can avoid doing imports until\n"
          ]
        },
        {
          "output_type": "stream",
          "name": "stdout",
          "text": [
            "companies to check:  33\n",
            "0\n",
            "0 CXK Limited\n",
            "1 CAF\n",
            "2 Goldhawk Associates Ltd\n",
            "3 PW Construction\n",
            "4 Commercial Services Trading Ltd\n",
            "5 Veolia UK\n",
            "6 Goldhawk Associates\n",
            "7 Premier IT\n",
            "8 Rutherford Briant\n",
            "9 Ashdown Group\n",
            "10 Morgan Sindall Property Services\n",
            "11 Braundton Consulting Limited\n",
            "12 Social Work Partners\n",
            "13 Hastings Direct\n",
            "14 BMS Performance Ltd\n",
            "15 P&O Ferries\n",
            "16 Nigel Frank International\n",
            "17 Shorterm Group\n",
            "18 Golding Homes\n",
            "19 F&D Tech Solutions\n",
            "Enter the Index of a Recruitment Agencies on this list or type 'no' to contiune no\n",
            "20 Versende Limited\n",
            "21 Reed NHS\n",
            "22 CXK Ltd\n",
            "23 Pontoon\n",
            "24 Howells Solutions\n",
            "25 Treatwell\n",
            "26 Roc Search Limited\n",
            "27 925 HomeJobs\n",
            "28 Utility People\n",
            "29 North Kent College\n",
            "30 Adecco\n",
            "31 National Highways\n",
            "32 SS&C\n",
            "Enter the Index of a Recruitment Agencies on this list or type 'no' to contiune no\n",
            "All Companies Have Been Checked!\n",
            "droped companies: \n"
          ]
        },
        {
          "output_type": "display_data",
          "data": {
            "text/plain": [
              "Series([], dtype: float64)"
            ]
          },
          "metadata": {}
        }
      ]
    },
    {
      "cell_type": "markdown",
      "source": [
        "This funtion combines the list of known Recruiment Agencies and the list found by the user. The updated list will be uploaded to Drive at the end of the script.\n"
      ],
      "metadata": {
        "id": "QbdwrMcA_hkl"
      }
    },
    {
      "cell_type": "code",
      "source": [
        "def update_recruiters_list(recruiters_list, recruiters_found):\n",
        "  recruiters_list = recruiters_list.append(recruiters_found,ignore_index=True)\n",
        "  display(recruiters_list)\n",
        "\n",
        "update_recruiters_list(recruiters_list, recruiters_found)"
      ],
      "metadata": {
        "colab": {
          "base_uri": "https://localhost:8080/",
          "height": 503
        },
        "id": "OYRHyX7YlFiK",
        "outputId": "1b8c2362-5caf-45dc-8531-c0c5cc498ccc"
      },
      "execution_count": 59,
      "outputs": [
        {
          "output_type": "display_data",
          "data": {
            "text/plain": [
              "0              Pearson Whiffin Recruitment\n",
              "1          Hays Specialist Recruitment Ltd\n",
              "2     Recruitment Solutions Folkestone Ltd\n",
              "3                  Atlas Recruitment Group\n",
              "4              Reed Specialist Recruitment\n",
              "5         Barker Munro Recruitment Limited\n",
              "6     Recruitment Solutions South East Ltd\n",
              "7            KHR - Recruitment Specialists\n",
              "8              Hays Specialist Recruitment\n",
              "9                  Kent Recruitment Bureau\n",
              "10     Hays Specialist Recruitment Limited\n",
              "11         Pearson Whiffin Recruitment Ltd\n",
              "12                   4Recruitment Services\n",
              "13          Lloyd Recruitment Services Ltd\n",
              "14                      Steria Recruitment\n",
              "15                   Recruitment Solutions\n",
              "16                                Huntress\n",
              "17                         MW Appointments\n",
              "18                           Connect2Staff\n",
              "19                           Office Angels\n",
              "20                            GerrardWhite\n",
              "21                        OBJECTIVE HR LTD\n",
              "22                                    Reed\n",
              "23                         Morgan McKinley\n",
              "24                  Commercial Services HR\n",
              "25                               Academics\n",
              "26                                  Lorien\n",
              "dtype: object"
            ]
          },
          "metadata": {}
        }
      ]
    },
    {
      "cell_type": "markdown",
      "source": [
        "This takes the lists of unique compaies and recruiters and returns a DataFrame with **all** the roles they have advertised."
      ],
      "metadata": {
        "id": "NFXbvgXzWkoN"
      }
    },
    {
      "cell_type": "code",
      "source": [
        "def find_company_df():\n",
        "  company_df = data_jobs_df.drop( data_jobs_df[data_jobs_df[\"company\"].isin(recruiters_list) == True ].index) #drop if company is a recruiter\n",
        "  recruiters_df = data_jobs_df.drop( data_jobs_df[data_jobs_df[\"company\"].isin(companies_list) == True ].index) #drop if company is not a recruiter\n",
        "\n",
        "  #For readability.\n",
        "  company_df.reset_index(drop=True, inplace = True)\n",
        "  recruiters_df.reset_index(drop=True, inplace = True)\n",
        "\n",
        "  return company_df, recruiters_df\n",
        "\n",
        "company_df, recruiters_df = find_company_df()\n",
        "  "
      ],
      "metadata": {
        "id": "QlYMcg9iNht-"
      },
      "execution_count": 60,
      "outputs": []
    },
    {
      "cell_type": "markdown",
      "source": [
        "Saves the DataFrames with a name based on the date searched. If you run the search multiple times, the newer search file will overwrite the older search file."
      ],
      "metadata": {
        "id": "TT9h2KnWU7kJ"
      }
    },
    {
      "cell_type": "code",
      "source": [
        "#saveing files names of search based on current date.\n",
        "date_today = datetime.date.today()\n",
        "recruiters_fn = str(date_today)+\"_recruitment_company_df.csv\"\n",
        "company_fn = str(date_today)+\"_data_employeer_df.csv\"\n",
        "\n",
        "#'opens' the chosen folder in drive for files to be saved in.\n",
        "def mount_drive(data_path):\n",
        "  drive.mount('/content/drive/', force_remount=True)\n",
        "  project_dir = \"/content/drive/MyDrive/\" + data_path #--working parth\n",
        "  return project_dir\n",
        "\n",
        "  \n",
        "def unmount_drive():\n",
        "  drive.flush_and_unmount()\n",
        "  print('Drive Unmounted')\n",
        "\n"
      ],
      "metadata": {
        "id": "_4JzYHo4PXAu"
      },
      "execution_count": 61,
      "outputs": []
    },
    {
      "cell_type": "markdown",
      "source": [
        "Checks if you have choesn to save your work to your Drive."
      ],
      "metadata": {
        "id": "DRsunvMr2cbr"
      }
    },
    {
      "cell_type": "code",
      "source": [
        "if query_save.lower() == \"yes\":\n",
        "  save_state = True\n",
        "  project_dir = mount_drive(save_path)\n",
        "\n",
        "  recruiters_list.to_csv(project_dir +\"/recruiters_list.csv\", index=0)\n",
        "  recruiters_df.to_csv(project_dir + recruiters_fn, index=0)\n",
        "  company_df.to_csv(project_dir + company_fn, index=0)\n",
        "\n",
        "  unmount_drive()\n",
        "else: \n",
        "  save_state = False"
      ],
      "metadata": {
        "id": "y1db4ipQeRlH",
        "colab": {
          "base_uri": "https://localhost:8080/"
        },
        "outputId": "ff772385-5d94-4ac4-adea-6825ac70abe7"
      },
      "execution_count": 62,
      "outputs": [
        {
          "output_type": "stream",
          "name": "stdout",
          "text": [
            "Mounted at /content/drive/\n",
            "Drive Unmounted\n"
          ]
        }
      ]
    },
    {
      "cell_type": "markdown",
      "source": [
        "Prints confirmation of successful save and the file name/location."
      ],
      "metadata": {
        "id": "dlE1Z443L9iy"
      }
    },
    {
      "cell_type": "code",
      "source": [
        "if save_state == True:\n",
        "  print(\"Files saved in \", project_dir, \" as \", recruiters_fn, \" and \", company_fn,\".\")\n",
        "else:\n",
        "  print(\"You did not save the search.\")\n",
        "\n",
        "print(\"Search Terms:\")\n",
        "print(search_term)\n",
        "print(search_center)\n",
        "print(search_radius)"
      ],
      "metadata": {
        "id": "QhCI_tWI2cRG",
        "colab": {
          "base_uri": "https://localhost:8080/"
        },
        "outputId": "6b0c193a-a316-4dad-b3d4-b6f6c6f8e00e"
      },
      "execution_count": 63,
      "outputs": [
        {
          "output_type": "stream",
          "name": "stdout",
          "text": [
            "Files saved in  /content/drive/MyDrive/  as  2022-11-18_recruitment_company_df.csv  and  2022-11-18_data_employeer_df.csv .\n",
            "Search Terms:\n",
            "Data\n",
            "Ashford, Kent\n",
            "30\n"
          ]
        }
      ]
    }
  ]
}