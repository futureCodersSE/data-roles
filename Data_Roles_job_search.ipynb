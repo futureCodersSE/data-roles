{
  "nbformat": 4,
  "nbformat_minor": 0,
  "metadata": {
    "colab": {
      "provenance": [],
      "collapsed_sections": [],
      "authorship_tag": "ABX9TyORKxysDAylFJI8elEM7BM6",
      "include_colab_link": true
    },
    "kernelspec": {
      "name": "python3",
      "display_name": "Python 3"
    },
    "language_info": {
      "name": "python"
    }
  },
  "cells": [
    {
      "cell_type": "markdown",
      "metadata": {
        "id": "view-in-github",
        "colab_type": "text"
      },
      "source": [
        "<a href=\"https://colab.research.google.com/github/futureCodersSE/data-roles/blob/main/Data_Roles_job_search.ipynb\" target=\"_parent\"><img src=\"https://colab.research.google.com/assets/colab-badge.svg\" alt=\"Open In Colab\"/></a>"
      ]
    },
    {
      "cell_type": "markdown",
      "source": [],
      "metadata": {
        "id": "gXmOBWlBvpJZ"
      }
    },
    {
      "cell_type": "markdown",
      "source": [
        "Importing libaries and defining base jobsite urls"
      ],
      "metadata": {
        "id": "bU4maESh2aQ_"
      }
    },
    {
      "cell_type": "code",
      "execution_count": 4,
      "metadata": {
        "id": "j-UR0WPmrjU2"
      },
      "outputs": [],
      "source": [
        "from bs4 import BeautifulSoup\n",
        "import requests\n",
        "import pandas as pd\n",
        "pd.options.mode.chained_assignment = None  # default='warn'  ##<- this is really annoying, I WANT to copy the DF.\n",
        "import numpy as np\n",
        "import datetime\n",
        "import matplotlib.pyplot as plt\n",
        "from google.colab import files"
      ]
    },
    {
      "cell_type": "markdown",
      "source": [
        "TODO: break down the URL's to allow for user imput\n",
        "\n",
        "\n",
        "user imput to download/save.\n",
        "\n",
        "pl=osgb4000000074565668 -> Ashford   \n",
        "pl=osgb4000000074565139 -> Canterbury   \n",
        "pl=osgb4000000074543685 -> Tenterden   "
      ],
      "metadata": {
        "id": "Z3FeetaZyGf_"
      }
    },
    {
      "cell_type": "code",
      "source": [
        "#\"https://www.reed.co.uk/jobs/\"+search1+\"-\"+search2+\"jobs-in\"+area+\"?proximity=\"+radius -----?keywords=search1-search2\n",
        "#\"https://jobsinkent.com/search?q=\" + search + \"&pl=1&r=\" + radius\n",
        "#%2C for a ',' and + for a \" \"\n",
        "\n",
        "\n",
        "reed_url = \"https://www.reed.co.uk/jobs/data-jobs-in-ashford-kent?proximity=30\"\n",
        "jobsinkent_url = \"https://jobsinkent.com/search?q=Data&pl=1\" #pl=1 -> Kent\n",
        "\n",
        "max_job_call = 2000 #reed has a limit of 2000 job search api calls per hour.\n",
        "date_today = datetime.date.today()"
      ],
      "metadata": {
        "id": "a8Mq1V1OvvS2"
      },
      "execution_count": 5,
      "outputs": []
    },
    {
      "cell_type": "markdown",
      "source": [
        "General Functions that are used in both searches."
      ],
      "metadata": {
        "id": "j9izuNBqxuTU"
      }
    },
    {
      "cell_type": "code",
      "source": [
        "#returns the full HTML of \n",
        "def get_html(url):\n",
        "    page = requests.get(url)\n",
        "    soup = BeautifulSoup(page.content, 'html.parser')\n",
        "    return soup\n",
        "#This cleans the dataframes when they have been created.\n",
        "def general_clean(df,site):\n",
        "  df.drop_duplicates(inplace=True)\n",
        "  df = df[df[\"job_title\"].str.contains(\"Data\")]\n",
        "  df[\"salary\"].replace(np.nan, '', regex=False,inplace=True) #not all companies have listed a salary and so NaN is sometimes returned\n",
        "  df[\"company\"] = df[\"company\"].str.lstrip(\" \").str.rstrip(\" \") #some companies have excess whitespaces around their names\n",
        "\n",
        "  df[\"date_found\"] = datetime.date.today()\n",
        "  df[\"advertised_on\"] = site\n",
        "  return df"
      ],
      "metadata": {
        "id": "hPZ9tXTmxuHZ"
      },
      "execution_count": 6,
      "outputs": []
    },
    {
      "cell_type": "markdown",
      "source": [
        "#Reed Job Search\n",
        "---"
      ],
      "metadata": {
        "id": "twZFKrtmuBG-"
      }
    },
    {
      "cell_type": "markdown",
      "source": [
        "This function finds the job ID for all jobs displayed on each page url from reed.co.uk\n"
      ],
      "metadata": {
        "id": "Ze1w318xtMpj"
      }
    },
    {
      "cell_type": "code",
      "source": [
        "def find__reed_jobs_iterate(page_url):\n",
        "  site_html = get_html(page_url)\n",
        "  results = site_html.find(class_=\"col-sm-8 col-md-9 results-container\")\n",
        "\n",
        "  id_list = np.array([])\n",
        "  job_cards = results.find_all(class_=\"job-result-card\")\n",
        "\n",
        "  for job in job_cards: #finds the jobs, gets it's ID, returns the id\n",
        "      job_id = int(job[\"id\"].split(\"jobSection\")[1]) #jobSection48529572 ect...\n",
        "      \n",
        "      id_list = np.append(id_list,[job_id])\n",
        "  return id_list"
      ],
      "metadata": {
        "id": "3HhCS-c4rov7"
      },
      "execution_count": 7,
      "outputs": []
    },
    {
      "cell_type": "markdown",
      "source": [
        "This finds the total jobs found in the search"
      ],
      "metadata": {
        "id": "FcBpN7SV7sI3"
      }
    },
    {
      "cell_type": "code",
      "source": [
        "def find_total_jobs(site_html,max_job_call):\n",
        "  max_page_requests = int(max_job_call/25) \n",
        "\n",
        "  ###\n",
        "  total_jobs_text = site_html.find(class_=\"col-sm-11 col-xs-12 page-title\").text # '\\n' '\\r' '\\n' x,xxx\\r\\n  Data Jobs near Ashford       '\\n'....\n",
        "  total_jobs_text = total_jobs_text.replace(\"\\n\",\"\").replace(\"\\r\",\"\").replace(\",\",\"\") #          xxxx         Data Jobs near Ashford         \n",
        "\n",
        "  total_jobs = int(total_jobs_text.split(\"Data\")[0].strip(\" \"))\n",
        "  total_pages = int(np.ceil(total_jobs/25))\n",
        "\n",
        "  #limits the requests to only 2000\n",
        "  if total_pages > max_page_requests:\n",
        "    total_pages = max_page_requests\n",
        "\n",
        "\n",
        "  return total_jobs, total_pages\n",
        "#find_total_jobs(get_html(reed_url),max_job_call)\n"
      ],
      "metadata": {
        "id": "rb1-9VOLuMXS"
      },
      "execution_count": 8,
      "outputs": []
    },
    {
      "cell_type": "markdown",
      "source": [
        "\n",
        "The function srapes website for all job id's that meet the search critiera.\n"
      ],
      "metadata": {
        "id": "55hjm4Hqtadz"
      }
    },
    {
      "cell_type": "code",
      "source": [
        "def reed_scrape(base_url,max_job_call):\n",
        "  soup = get_html(base_url)\n",
        "  total_id_list = np.array([],dtype=int)\n",
        "\n",
        "  #finds out how many more pages to scrape\n",
        "  total_jobs, total_pages = find_total_jobs(soup,max_job_call)\n",
        "\n",
        "  print(\"total jobs found: \", total_jobs)\n",
        "  print(\"total pages: \", total_pages)\n",
        "  print(\"pages to search: \",total_pages)\n",
        "\n",
        "  for page_no in np.arange(1,total_pages+1): \n",
        "    page_url = base_url+\"&pageno=\"+str(page_no)\n",
        "    page_id_list = find__reed_jobs_iterate(page_url)\n",
        "    total_id_list = np.append(total_id_list,[page_id_list])\n",
        "\n",
        "    #user feedback\n",
        "    print(\"page \",page_no, \" processed\")\n",
        "  return total_id_list\n"
      ],
      "metadata": {
        "id": "Az2WHxc4taFE"
      },
      "execution_count": 9,
      "outputs": []
    },
    {
      "cell_type": "markdown",
      "source": [
        "This calls the reed API to return job information based on the jobID"
      ],
      "metadata": {
        "id": "vTIXRwtw7FDt"
      }
    },
    {
      "cell_type": "code",
      "source": [
        "def call_reed_api(id_list):\n",
        "  base_url = \"https://www.reed.co.uk/api/1.0/jobs/\"\n",
        "  api_url = \"\"\n",
        "  job_df = pd.DataFrame()\n",
        "\n",
        "\n",
        "  for job_id in id_list:\n",
        "    api_url = base_url+str(job_id)\n",
        "    post_request = requests.get(api_url, auth=(\"96a7ec49-549c-4529-b9d2-fa3059a437b3\",\"\"))\n",
        "    json_data = post_request.json()\n",
        "\n",
        "    new_row = pd.json_normalize(json_data)\n",
        "    job_df = job_df.append(new_row,ignore_index=True)\n",
        "  return job_df"
      ],
      "metadata": {
        "id": "XvS9gJzw3naG"
      },
      "execution_count": 10,
      "outputs": []
    },
    {
      "cell_type": "markdown",
      "source": [
        "Calls the scraping function and the api function in turn -7mins to run"
      ],
      "metadata": {
        "id": "KMBzMmFP8FKj"
      }
    },
    {
      "cell_type": "code",
      "source": [
        "reed_id_list = reed_scrape(reed_url,max_job_call)\n",
        "reed_id_list = reed_id_list.astype(\"int\") #it really didnt want to save the array as an int\n",
        "\n",
        "full_reed_df = call_reed_api(reed_id_list)\n",
        "display(full_reed_df.info())"
      ],
      "metadata": {
        "colab": {
          "base_uri": "https://localhost:8080/",
          "height": 1000
        },
        "id": "9LUfycOh7OMg",
        "outputId": "13cb64ba-425c-4262-fa46-0f3ea8ef6962"
      },
      "execution_count": 11,
      "outputs": [
        {
          "output_type": "stream",
          "name": "stdout",
          "text": [
            "total jobs found:  1502\n",
            "total pages:  61\n",
            "pages to search:  61\n",
            "page  1  processed\n",
            "page  2  processed\n",
            "page  3  processed\n",
            "page  4  processed\n",
            "page  5  processed\n",
            "page  6  processed\n",
            "page  7  processed\n",
            "page  8  processed\n",
            "page  9  processed\n",
            "page  10  processed\n",
            "page  11  processed\n",
            "page  12  processed\n",
            "page  13  processed\n",
            "page  14  processed\n",
            "page  15  processed\n",
            "page  16  processed\n",
            "page  17  processed\n",
            "page  18  processed\n",
            "page  19  processed\n",
            "page  20  processed\n",
            "page  21  processed\n",
            "page  22  processed\n",
            "page  23  processed\n",
            "page  24  processed\n",
            "page  25  processed\n",
            "page  26  processed\n",
            "page  27  processed\n",
            "page  28  processed\n",
            "page  29  processed\n",
            "page  30  processed\n",
            "page  31  processed\n",
            "page  32  processed\n",
            "page  33  processed\n",
            "page  34  processed\n",
            "page  35  processed\n",
            "page  36  processed\n",
            "page  37  processed\n",
            "page  38  processed\n",
            "page  39  processed\n",
            "page  40  processed\n",
            "page  41  processed\n",
            "page  42  processed\n",
            "page  43  processed\n",
            "page  44  processed\n",
            "page  45  processed\n",
            "page  46  processed\n",
            "page  47  processed\n",
            "page  48  processed\n",
            "page  49  processed\n",
            "page  50  processed\n",
            "page  51  processed\n",
            "page  52  processed\n",
            "page  53  processed\n",
            "page  54  processed\n",
            "page  55  processed\n",
            "page  56  processed\n",
            "page  57  processed\n",
            "page  58  processed\n",
            "page  59  processed\n",
            "page  60  processed\n",
            "page  61  processed\n",
            "<class 'pandas.core.frame.DataFrame'>\n",
            "RangeIndex: 1563 entries, 0 to 1562\n",
            "Data columns (total 21 columns):\n",
            " #   Column               Non-Null Count  Dtype \n",
            "---  ------               --------------  ----- \n",
            " 0   employerId           1563 non-null   int64 \n",
            " 1   employerName         1563 non-null   object\n",
            " 2   jobId                1563 non-null   int64 \n",
            " 3   jobTitle             1563 non-null   object\n",
            " 4   locationName         1563 non-null   object\n",
            " 5   minimumSalary        1297 non-null   object\n",
            " 6   maximumSalary        1297 non-null   object\n",
            " 7   yearlyMinimumSalary  1297 non-null   object\n",
            " 8   yearlyMaximumSalary  1297 non-null   object\n",
            " 9   currency             1297 non-null   object\n",
            " 10  salaryType           1563 non-null   object\n",
            " 11  salary               1297 non-null   object\n",
            " 12  datePosted           1563 non-null   object\n",
            " 13  expirationDate       1563 non-null   object\n",
            " 14  externalUrl          268 non-null    object\n",
            " 15  jobUrl               1563 non-null   object\n",
            " 16  partTime             1563 non-null   bool  \n",
            " 17  fullTime             1563 non-null   bool  \n",
            " 18  contractType         1563 non-null   object\n",
            " 19  jobDescription       1563 non-null   object\n",
            " 20  applicationCount     1563 non-null   int64 \n",
            "dtypes: bool(2), int64(3), object(16)\n",
            "memory usage: 235.2+ KB\n"
          ]
        },
        {
          "output_type": "display_data",
          "data": {
            "text/plain": [
              "None"
            ]
          },
          "metadata": {}
        }
      ]
    },
    {
      "cell_type": "markdown",
      "source": [
        "Cleaning the Reed DF"
      ],
      "metadata": {
        "id": "q8H8F0IT-Z40"
      }
    },
    {
      "cell_type": "code",
      "source": [
        "def clean_reed(df_in): #this filters out the necessary rows and renames them so the cleaning function works.\n",
        "  df = df_in[[\"jobTitle\", \"employerName\", \"salary\", \"contractType\", \"locationName\",  \"jobUrl\"]]\n",
        "\n",
        "  df.rename(columns={\"jobTitle\":\"job_title\", \"employerName\": \"company\", \"contractType\":\"contract\", \"locationName\":\"location\",  \"jobUrl\":\"job_url\"}, inplace=True)\n",
        "  return df\n",
        "\n",
        "\n",
        "reed_df = clean_reed(full_reed_df)\n",
        "reed_df = general_clean(reed_df,\"https://www.reed.co.uk\")\n",
        "display(reed_df.head(5))"
      ],
      "metadata": {
        "colab": {
          "base_uri": "https://localhost:8080/",
          "height": 206
        },
        "id": "_Sp0u-sv-YlY",
        "outputId": "88914e6a-ca57-4528-db7e-74eae69302f1"
      },
      "execution_count": 12,
      "outputs": [
        {
          "output_type": "display_data",
          "data": {
            "text/plain": [
              "        job_title                               company  \\\n",
              "0  Data Architect                             Veolia UK   \n",
              "2    Data Analyst                            Premier IT   \n",
              "3    Data Analyst      Morgan Sindall Property Services   \n",
              "4    Data Analyst  IronmongeryDirect & ElectricalDirect   \n",
              "5    Data Analyst                    OnetoOne Personnel   \n",
              "\n",
              "                                      salary   contract        location  \\\n",
              "0  £65,000 - £84,600 per annum, inc benefits  Permanent  United Kingdom   \n",
              "2                £30,000 - £35,000 per annum  Permanent        Basildon   \n",
              "3  £26,000 - £34,000 per annum, inc benefits  Permanent      Billericay   \n",
              "4                £32,000 - £35,000 per annum  Permanent        Basildon   \n",
              "5                £33,000 - £50,000 per annum  Permanent    Leigh-on-Sea   \n",
              "\n",
              "                                             job_url  date_found  \\\n",
              "0  https://www.reed.co.uk/jobs/data-architect/486...  2022-10-31   \n",
              "2  https://www.reed.co.uk/jobs/data-analyst/48631725  2022-10-31   \n",
              "3  https://www.reed.co.uk/jobs/data-analyst/48223150  2022-10-31   \n",
              "4  https://www.reed.co.uk/jobs/data-analyst/48320718  2022-10-31   \n",
              "5  https://www.reed.co.uk/jobs/data-analyst/48465441  2022-10-31   \n",
              "\n",
              "            advertised_on  \n",
              "0  https://www.reed.co.uk  \n",
              "2  https://www.reed.co.uk  \n",
              "3  https://www.reed.co.uk  \n",
              "4  https://www.reed.co.uk  \n",
              "5  https://www.reed.co.uk  "
            ],
            "text/html": [
              "\n",
              "  <div id=\"df-7a197f23-8c10-4f6b-b039-bc7f7a47c2c7\">\n",
              "    <div class=\"colab-df-container\">\n",
              "      <div>\n",
              "<style scoped>\n",
              "    .dataframe tbody tr th:only-of-type {\n",
              "        vertical-align: middle;\n",
              "    }\n",
              "\n",
              "    .dataframe tbody tr th {\n",
              "        vertical-align: top;\n",
              "    }\n",
              "\n",
              "    .dataframe thead th {\n",
              "        text-align: right;\n",
              "    }\n",
              "</style>\n",
              "<table border=\"1\" class=\"dataframe\">\n",
              "  <thead>\n",
              "    <tr style=\"text-align: right;\">\n",
              "      <th></th>\n",
              "      <th>job_title</th>\n",
              "      <th>company</th>\n",
              "      <th>salary</th>\n",
              "      <th>contract</th>\n",
              "      <th>location</th>\n",
              "      <th>job_url</th>\n",
              "      <th>date_found</th>\n",
              "      <th>advertised_on</th>\n",
              "    </tr>\n",
              "  </thead>\n",
              "  <tbody>\n",
              "    <tr>\n",
              "      <th>0</th>\n",
              "      <td>Data Architect</td>\n",
              "      <td>Veolia UK</td>\n",
              "      <td>£65,000 - £84,600 per annum, inc benefits</td>\n",
              "      <td>Permanent</td>\n",
              "      <td>United Kingdom</td>\n",
              "      <td>https://www.reed.co.uk/jobs/data-architect/486...</td>\n",
              "      <td>2022-10-31</td>\n",
              "      <td>https://www.reed.co.uk</td>\n",
              "    </tr>\n",
              "    <tr>\n",
              "      <th>2</th>\n",
              "      <td>Data Analyst</td>\n",
              "      <td>Premier IT</td>\n",
              "      <td>£30,000 - £35,000 per annum</td>\n",
              "      <td>Permanent</td>\n",
              "      <td>Basildon</td>\n",
              "      <td>https://www.reed.co.uk/jobs/data-analyst/48631725</td>\n",
              "      <td>2022-10-31</td>\n",
              "      <td>https://www.reed.co.uk</td>\n",
              "    </tr>\n",
              "    <tr>\n",
              "      <th>3</th>\n",
              "      <td>Data Analyst</td>\n",
              "      <td>Morgan Sindall Property Services</td>\n",
              "      <td>£26,000 - £34,000 per annum, inc benefits</td>\n",
              "      <td>Permanent</td>\n",
              "      <td>Billericay</td>\n",
              "      <td>https://www.reed.co.uk/jobs/data-analyst/48223150</td>\n",
              "      <td>2022-10-31</td>\n",
              "      <td>https://www.reed.co.uk</td>\n",
              "    </tr>\n",
              "    <tr>\n",
              "      <th>4</th>\n",
              "      <td>Data Analyst</td>\n",
              "      <td>IronmongeryDirect &amp; ElectricalDirect</td>\n",
              "      <td>£32,000 - £35,000 per annum</td>\n",
              "      <td>Permanent</td>\n",
              "      <td>Basildon</td>\n",
              "      <td>https://www.reed.co.uk/jobs/data-analyst/48320718</td>\n",
              "      <td>2022-10-31</td>\n",
              "      <td>https://www.reed.co.uk</td>\n",
              "    </tr>\n",
              "    <tr>\n",
              "      <th>5</th>\n",
              "      <td>Data Analyst</td>\n",
              "      <td>OnetoOne Personnel</td>\n",
              "      <td>£33,000 - £50,000 per annum</td>\n",
              "      <td>Permanent</td>\n",
              "      <td>Leigh-on-Sea</td>\n",
              "      <td>https://www.reed.co.uk/jobs/data-analyst/48465441</td>\n",
              "      <td>2022-10-31</td>\n",
              "      <td>https://www.reed.co.uk</td>\n",
              "    </tr>\n",
              "  </tbody>\n",
              "</table>\n",
              "</div>\n",
              "      <button class=\"colab-df-convert\" onclick=\"convertToInteractive('df-7a197f23-8c10-4f6b-b039-bc7f7a47c2c7')\"\n",
              "              title=\"Convert this dataframe to an interactive table.\"\n",
              "              style=\"display:none;\">\n",
              "        \n",
              "  <svg xmlns=\"http://www.w3.org/2000/svg\" height=\"24px\"viewBox=\"0 0 24 24\"\n",
              "       width=\"24px\">\n",
              "    <path d=\"M0 0h24v24H0V0z\" fill=\"none\"/>\n",
              "    <path d=\"M18.56 5.44l.94 2.06.94-2.06 2.06-.94-2.06-.94-.94-2.06-.94 2.06-2.06.94zm-11 1L8.5 8.5l.94-2.06 2.06-.94-2.06-.94L8.5 2.5l-.94 2.06-2.06.94zm10 10l.94 2.06.94-2.06 2.06-.94-2.06-.94-.94-2.06-.94 2.06-2.06.94z\"/><path d=\"M17.41 7.96l-1.37-1.37c-.4-.4-.92-.59-1.43-.59-.52 0-1.04.2-1.43.59L10.3 9.45l-7.72 7.72c-.78.78-.78 2.05 0 2.83L4 21.41c.39.39.9.59 1.41.59.51 0 1.02-.2 1.41-.59l7.78-7.78 2.81-2.81c.8-.78.8-2.07 0-2.86zM5.41 20L4 18.59l7.72-7.72 1.47 1.35L5.41 20z\"/>\n",
              "  </svg>\n",
              "      </button>\n",
              "      \n",
              "  <style>\n",
              "    .colab-df-container {\n",
              "      display:flex;\n",
              "      flex-wrap:wrap;\n",
              "      gap: 12px;\n",
              "    }\n",
              "\n",
              "    .colab-df-convert {\n",
              "      background-color: #E8F0FE;\n",
              "      border: none;\n",
              "      border-radius: 50%;\n",
              "      cursor: pointer;\n",
              "      display: none;\n",
              "      fill: #1967D2;\n",
              "      height: 32px;\n",
              "      padding: 0 0 0 0;\n",
              "      width: 32px;\n",
              "    }\n",
              "\n",
              "    .colab-df-convert:hover {\n",
              "      background-color: #E2EBFA;\n",
              "      box-shadow: 0px 1px 2px rgba(60, 64, 67, 0.3), 0px 1px 3px 1px rgba(60, 64, 67, 0.15);\n",
              "      fill: #174EA6;\n",
              "    }\n",
              "\n",
              "    [theme=dark] .colab-df-convert {\n",
              "      background-color: #3B4455;\n",
              "      fill: #D2E3FC;\n",
              "    }\n",
              "\n",
              "    [theme=dark] .colab-df-convert:hover {\n",
              "      background-color: #434B5C;\n",
              "      box-shadow: 0px 1px 3px 1px rgba(0, 0, 0, 0.15);\n",
              "      filter: drop-shadow(0px 1px 2px rgba(0, 0, 0, 0.3));\n",
              "      fill: #FFFFFF;\n",
              "    }\n",
              "  </style>\n",
              "\n",
              "      <script>\n",
              "        const buttonEl =\n",
              "          document.querySelector('#df-7a197f23-8c10-4f6b-b039-bc7f7a47c2c7 button.colab-df-convert');\n",
              "        buttonEl.style.display =\n",
              "          google.colab.kernel.accessAllowed ? 'block' : 'none';\n",
              "\n",
              "        async function convertToInteractive(key) {\n",
              "          const element = document.querySelector('#df-7a197f23-8c10-4f6b-b039-bc7f7a47c2c7');\n",
              "          const dataTable =\n",
              "            await google.colab.kernel.invokeFunction('convertToInteractive',\n",
              "                                                     [key], {});\n",
              "          if (!dataTable) return;\n",
              "\n",
              "          const docLinkHtml = 'Like what you see? Visit the ' +\n",
              "            '<a target=\"_blank\" href=https://colab.research.google.com/notebooks/data_table.ipynb>data table notebook</a>'\n",
              "            + ' to learn more about interactive tables.';\n",
              "          element.innerHTML = '';\n",
              "          dataTable['output_type'] = 'display_data';\n",
              "          await google.colab.output.renderOutput(dataTable, element);\n",
              "          const docLink = document.createElement('div');\n",
              "          docLink.innerHTML = docLinkHtml;\n",
              "          element.appendChild(docLink);\n",
              "        }\n",
              "      </script>\n",
              "    </div>\n",
              "  </div>\n",
              "  "
            ]
          },
          "metadata": {}
        }
      ]
    },
    {
      "cell_type": "markdown",
      "source": [
        "#JobsInKent Job Search\n",
        "---\n"
      ],
      "metadata": {
        "id": "TS2GBSrFtbB6"
      }
    },
    {
      "cell_type": "markdown",
      "source": [
        "This function returns a DF containing all of the relevent jobs found on 1 page"
      ],
      "metadata": {
        "id": "REZ6sHSk9apg"
      }
    },
    {
      "cell_type": "code",
      "source": [
        "def find_jobsinkent_iterate(url,job_limit):\n",
        "  jobs_df = pd.DataFrame(data=[], columns = [\"job_title\", \"company\", \"salary\", \"contract\", \"location\",\"job_url\"])\n",
        "  site_html = get_html(url)\n",
        "  results = site_html.find(class_=\"mt-2 lg:mt-0\")\n",
        "\n",
        "  #this is finding an additional 20 jobs per page that are not visible on the site itself.\n",
        "  job_cards = results.find_all(class_=\"flex mb-2 border-black-900 rounded-md border-x-4 sm:rounded-lg\")\n",
        "\n",
        "\n",
        "  #[:job_limit] is required as non relevent jobs were being found in the site_html with the job_cards class after the 20~ jobs that were being show on the site.\n",
        "  # So I had to find how many jobs were being show in each page first and then limit the loop to only iterate up to that number of jobs.\n",
        "  for job in job_cards[:job_limit]:\n",
        "\n",
        "    job_title_url = job.find(\"a\", class_=\"text-blue-700 visited:text-grey-200 hover:underline\") \n",
        "    job_title = job_title_url.text\n",
        "    job_url = job_title_url[\"href\"]\n",
        "\n",
        "    company_name = job.find(class_=\"mt-0 mb-2 max-w-2xl text-sm text-black\").text \n",
        "\n",
        "    #This info was all on the fouth box class and needed to be seperated further for the relevent information to be extracted.\n",
        "    info_list = job.find_all(class_=\"col-span-12\") \n",
        "    salary = clean_bloat(info_list[0].text)\n",
        "    contract = clean_bloat(info_list[1].text)\n",
        "    location = clean_bloat(info_list[2].text)\n",
        "\n",
        "    new_row = {\"job_title\":job_title, \"company\":company_name, \"salary\":salary, \"contract\":contract, \"location\":location,\"job_url\":job_url}\n",
        "    jobs_df = jobs_df.append(new_row,ignore_index = True)\n",
        "  return jobs_df"
      ],
      "metadata": {
        "id": "9gfyVlh-r4TS"
      },
      "execution_count": 13,
      "outputs": []
    },
    {
      "cell_type": "code",
      "source": [
        "#removes '\\n' and spaces from from names.\n",
        "def clean_bloat(text):\n",
        "  strip1 = text.replace(\"\\n\",\"\").replace(\"\\xa0\",\"\")\n",
        "  strip2 = strip1.strip(\" \")\n",
        "  return strip2\n",
        "\n",
        "#extracts information about numbers of jobs \n",
        "def return_jobs_pages(input_str):\n",
        "  p_j = input_str.split(\"of\") #[showing 1 to yy] , [xx jobs]\n",
        "  jobs_per_page = int(p_j[0].split(\"to\")[1]) #[yy]\n",
        "  total_jobs = int(p_j[1].split(\"Jobs\")[0]) #[xx]\n",
        "  \n",
        "  total_pages = int(np.ceil(total_jobs/jobs_per_page))\n",
        "\n",
        "  return total_jobs, jobs_per_page, total_pages"
      ],
      "metadata": {
        "id": "sUWfIcbWI3SD"
      },
      "execution_count": 14,
      "outputs": []
    },
    {
      "cell_type": "markdown",
      "source": [
        "The main function that calls to find out how many pages are needed to search over and stores the results of each iteration call."
      ],
      "metadata": {
        "id": "SOPwBYdi-a6U"
      }
    },
    {
      "cell_type": "code",
      "source": [
        "def jobsinkent_scrape(base_url):\n",
        "  #initialse the DF that will be used\n",
        "  jobsinkent_df = pd.DataFrame(data=[], columns = [\"job_title\", \"company\", \"salary\", \"contract\", \"location\",\"job_url\"])\n",
        "\n",
        "  #returns ALL the html from the site\n",
        "  site_html = get_html(base_url)\n",
        "\n",
        "  banner = site_html.find(\"p\", class_=\"text-sm text-gray-700 leading-5\") #~6th child within the top banner.\n",
        "  showing = banner.text # 'Showing 1 to yy of xx Jobs'\n",
        "\n",
        "  total_jobs, jobs_per_page, total_pages = return_jobs_pages(showing)\n",
        "\n",
        "  for page_no in range(1,total_pages+1):\n",
        "    #this if statment is required due to the issues mentioned above about job limits. It sets the jobs_limit variable to however many jobs there are displayed (visibly) on the page.\n",
        "    if page_no == total_pages:\n",
        "      jobs_limit = total_jobs%jobs_per_page\n",
        "    else:\n",
        "      jobs_limit = jobs_per_page\n",
        "\n",
        "    page_url = base_url + \"&page=\" + str(page_no)\n",
        "    new_df = find_jobsinkent_iterate(page_url, jobs_limit)\n",
        "    jobsinkent_df = jobsinkent_df.append(new_df, ignore_index=True)\n",
        "  \n",
        "    #user feedback  \n",
        "    print(\"page \",page_no, \" processed\")\n",
        "\n",
        "  return jobsinkent_df\n",
        "  \n",
        "jobsinkent_df = jobsinkent_scrape(jobsinkent_url)\n",
        "display(jobsinkent_df.head(5))"
      ],
      "metadata": {
        "colab": {
          "base_uri": "https://localhost:8080/",
          "height": 258
        },
        "id": "Vsag8HN2JKKy",
        "outputId": "724b1726-beeb-4569-d777-dc2b9ec93b04"
      },
      "execution_count": 15,
      "outputs": [
        {
          "output_type": "stream",
          "name": "stdout",
          "text": [
            "page  1  processed\n",
            "page  2  processed\n",
            "page  3  processed\n"
          ]
        },
        {
          "output_type": "display_data",
          "data": {
            "text/plain": [
              "                                 job_title  \\\n",
              "0                      Senior Data Analyst   \n",
              "1  Data Analyst - Global Insurance Markets   \n",
              "2                             Data Analyst   \n",
              "3            Data Lead (Digital Marketing)   \n",
              "4                      Data & GDPR Officer   \n",
              "\n",
              "                                company                           salary  \\\n",
              "0             Clarion Housing Group Ltd        £43264 - £59488 per annum   \n",
              "1                       MW Appointments                       Negotiable   \n",
              "2           Pearson Whiffin Recruitment  £23000 - £28000 per annum + DOE   \n",
              "3  Recruitment Solutions Folkestone Ltd            £30-40,000 dep on exp   \n",
              "4           Pearson Whiffin Recruitment          Up to £35,000 per annum   \n",
              "\n",
              "              contract                        location  \\\n",
              "0  permanent,full-time  Central London, Greater London   \n",
              "1  permanent,full-time  City of London, Greater London   \n",
              "2  permanent,full-time              West Malling, Kent   \n",
              "3  permanent,full-time                   Ashford, Kent   \n",
              "4  permanent,full-time                Kings Hill, Kent   \n",
              "\n",
              "                              job_url  \n",
              "0  https://jobsinkent.com/job/2423530  \n",
              "1  https://jobsinkent.com/job/2422053  \n",
              "2  https://jobsinkent.com/job/2331144  \n",
              "3  https://jobsinkent.com/job/2277249  \n",
              "4  https://jobsinkent.com/job/2424610  "
            ],
            "text/html": [
              "\n",
              "  <div id=\"df-125fa4ea-4139-4f9a-a8db-987d7263d0da\">\n",
              "    <div class=\"colab-df-container\">\n",
              "      <div>\n",
              "<style scoped>\n",
              "    .dataframe tbody tr th:only-of-type {\n",
              "        vertical-align: middle;\n",
              "    }\n",
              "\n",
              "    .dataframe tbody tr th {\n",
              "        vertical-align: top;\n",
              "    }\n",
              "\n",
              "    .dataframe thead th {\n",
              "        text-align: right;\n",
              "    }\n",
              "</style>\n",
              "<table border=\"1\" class=\"dataframe\">\n",
              "  <thead>\n",
              "    <tr style=\"text-align: right;\">\n",
              "      <th></th>\n",
              "      <th>job_title</th>\n",
              "      <th>company</th>\n",
              "      <th>salary</th>\n",
              "      <th>contract</th>\n",
              "      <th>location</th>\n",
              "      <th>job_url</th>\n",
              "    </tr>\n",
              "  </thead>\n",
              "  <tbody>\n",
              "    <tr>\n",
              "      <th>0</th>\n",
              "      <td>Senior Data Analyst</td>\n",
              "      <td>Clarion Housing Group Ltd</td>\n",
              "      <td>£43264 - £59488 per annum</td>\n",
              "      <td>permanent,full-time</td>\n",
              "      <td>Central London, Greater London</td>\n",
              "      <td>https://jobsinkent.com/job/2423530</td>\n",
              "    </tr>\n",
              "    <tr>\n",
              "      <th>1</th>\n",
              "      <td>Data Analyst - Global Insurance Markets</td>\n",
              "      <td>MW Appointments</td>\n",
              "      <td>Negotiable</td>\n",
              "      <td>permanent,full-time</td>\n",
              "      <td>City of London, Greater London</td>\n",
              "      <td>https://jobsinkent.com/job/2422053</td>\n",
              "    </tr>\n",
              "    <tr>\n",
              "      <th>2</th>\n",
              "      <td>Data Analyst</td>\n",
              "      <td>Pearson Whiffin Recruitment</td>\n",
              "      <td>£23000 - £28000 per annum + DOE</td>\n",
              "      <td>permanent,full-time</td>\n",
              "      <td>West Malling, Kent</td>\n",
              "      <td>https://jobsinkent.com/job/2331144</td>\n",
              "    </tr>\n",
              "    <tr>\n",
              "      <th>3</th>\n",
              "      <td>Data Lead (Digital Marketing)</td>\n",
              "      <td>Recruitment Solutions Folkestone Ltd</td>\n",
              "      <td>£30-40,000 dep on exp</td>\n",
              "      <td>permanent,full-time</td>\n",
              "      <td>Ashford, Kent</td>\n",
              "      <td>https://jobsinkent.com/job/2277249</td>\n",
              "    </tr>\n",
              "    <tr>\n",
              "      <th>4</th>\n",
              "      <td>Data &amp; GDPR Officer</td>\n",
              "      <td>Pearson Whiffin Recruitment</td>\n",
              "      <td>Up to £35,000 per annum</td>\n",
              "      <td>permanent,full-time</td>\n",
              "      <td>Kings Hill, Kent</td>\n",
              "      <td>https://jobsinkent.com/job/2424610</td>\n",
              "    </tr>\n",
              "  </tbody>\n",
              "</table>\n",
              "</div>\n",
              "      <button class=\"colab-df-convert\" onclick=\"convertToInteractive('df-125fa4ea-4139-4f9a-a8db-987d7263d0da')\"\n",
              "              title=\"Convert this dataframe to an interactive table.\"\n",
              "              style=\"display:none;\">\n",
              "        \n",
              "  <svg xmlns=\"http://www.w3.org/2000/svg\" height=\"24px\"viewBox=\"0 0 24 24\"\n",
              "       width=\"24px\">\n",
              "    <path d=\"M0 0h24v24H0V0z\" fill=\"none\"/>\n",
              "    <path d=\"M18.56 5.44l.94 2.06.94-2.06 2.06-.94-2.06-.94-.94-2.06-.94 2.06-2.06.94zm-11 1L8.5 8.5l.94-2.06 2.06-.94-2.06-.94L8.5 2.5l-.94 2.06-2.06.94zm10 10l.94 2.06.94-2.06 2.06-.94-2.06-.94-.94-2.06-.94 2.06-2.06.94z\"/><path d=\"M17.41 7.96l-1.37-1.37c-.4-.4-.92-.59-1.43-.59-.52 0-1.04.2-1.43.59L10.3 9.45l-7.72 7.72c-.78.78-.78 2.05 0 2.83L4 21.41c.39.39.9.59 1.41.59.51 0 1.02-.2 1.41-.59l7.78-7.78 2.81-2.81c.8-.78.8-2.07 0-2.86zM5.41 20L4 18.59l7.72-7.72 1.47 1.35L5.41 20z\"/>\n",
              "  </svg>\n",
              "      </button>\n",
              "      \n",
              "  <style>\n",
              "    .colab-df-container {\n",
              "      display:flex;\n",
              "      flex-wrap:wrap;\n",
              "      gap: 12px;\n",
              "    }\n",
              "\n",
              "    .colab-df-convert {\n",
              "      background-color: #E8F0FE;\n",
              "      border: none;\n",
              "      border-radius: 50%;\n",
              "      cursor: pointer;\n",
              "      display: none;\n",
              "      fill: #1967D2;\n",
              "      height: 32px;\n",
              "      padding: 0 0 0 0;\n",
              "      width: 32px;\n",
              "    }\n",
              "\n",
              "    .colab-df-convert:hover {\n",
              "      background-color: #E2EBFA;\n",
              "      box-shadow: 0px 1px 2px rgba(60, 64, 67, 0.3), 0px 1px 3px 1px rgba(60, 64, 67, 0.15);\n",
              "      fill: #174EA6;\n",
              "    }\n",
              "\n",
              "    [theme=dark] .colab-df-convert {\n",
              "      background-color: #3B4455;\n",
              "      fill: #D2E3FC;\n",
              "    }\n",
              "\n",
              "    [theme=dark] .colab-df-convert:hover {\n",
              "      background-color: #434B5C;\n",
              "      box-shadow: 0px 1px 3px 1px rgba(0, 0, 0, 0.15);\n",
              "      filter: drop-shadow(0px 1px 2px rgba(0, 0, 0, 0.3));\n",
              "      fill: #FFFFFF;\n",
              "    }\n",
              "  </style>\n",
              "\n",
              "      <script>\n",
              "        const buttonEl =\n",
              "          document.querySelector('#df-125fa4ea-4139-4f9a-a8db-987d7263d0da button.colab-df-convert');\n",
              "        buttonEl.style.display =\n",
              "          google.colab.kernel.accessAllowed ? 'block' : 'none';\n",
              "\n",
              "        async function convertToInteractive(key) {\n",
              "          const element = document.querySelector('#df-125fa4ea-4139-4f9a-a8db-987d7263d0da');\n",
              "          const dataTable =\n",
              "            await google.colab.kernel.invokeFunction('convertToInteractive',\n",
              "                                                     [key], {});\n",
              "          if (!dataTable) return;\n",
              "\n",
              "          const docLinkHtml = 'Like what you see? Visit the ' +\n",
              "            '<a target=\"_blank\" href=https://colab.research.google.com/notebooks/data_table.ipynb>data table notebook</a>'\n",
              "            + ' to learn more about interactive tables.';\n",
              "          element.innerHTML = '';\n",
              "          dataTable['output_type'] = 'display_data';\n",
              "          await google.colab.output.renderOutput(dataTable, element);\n",
              "          const docLink = document.createElement('div');\n",
              "          docLink.innerHTML = docLinkHtml;\n",
              "          element.appendChild(docLink);\n",
              "        }\n",
              "      </script>\n",
              "    </div>\n",
              "  </div>\n",
              "  "
            ]
          },
          "metadata": {}
        }
      ]
    },
    {
      "cell_type": "markdown",
      "source": [
        "Cleans the jobsinkent_df to be used later."
      ],
      "metadata": {
        "id": "c47hzOfRJku6"
      }
    },
    {
      "cell_type": "code",
      "source": [
        "jobsinkent_df = general_clean(jobsinkent_df,\"jobsinkent.com/search\")"
      ],
      "metadata": {
        "id": "4QbSbRcSJlEV"
      },
      "execution_count": 16,
      "outputs": []
    },
    {
      "cell_type": "markdown",
      "source": [
        "#Combining both results\n",
        "---\n"
      ],
      "metadata": {
        "id": "kW11z72pKmed"
      }
    },
    {
      "cell_type": "markdown",
      "source": [
        "Combines the two DF's from JobsInKent"
      ],
      "metadata": {
        "id": "47bVltbM1Kqs"
      }
    },
    {
      "cell_type": "code",
      "source": [
        "data_jobs_df = pd.DataFrame()\n",
        "\n",
        "data_jobs_df = data_jobs_df.append([jobsinkent_df,reed_df],ignore_index=True)\n",
        "display(data_jobs_df)"
      ],
      "metadata": {
        "colab": {
          "base_uri": "https://localhost:8080/",
          "height": 468
        },
        "id": "A1jAk3srKp42",
        "outputId": "f563d668-139c-4d73-f9ff-970a9580cf18"
      },
      "execution_count": 17,
      "outputs": [
        {
          "output_type": "display_data",
          "data": {
            "text/plain": [
              "                                             job_title  \\\n",
              "0                                  Senior Data Analyst   \n",
              "1              Data Analyst - Global Insurance Markets   \n",
              "2                                         Data Analyst   \n",
              "3                        Data Lead (Digital Marketing)   \n",
              "4                                  Data & GDPR Officer   \n",
              "..                                                 ...   \n",
              "103  Exams & Data Officer - Bromley / Kent Borders ...   \n",
              "104              Digital Product Owner (Data Products)   \n",
              "105  Digital Analyst/Data Visualisation Executive- ...   \n",
              "106                   Temporary Database Administrator   \n",
              "107                      SQL Server Database Developer   \n",
              "\n",
              "                                  company                           salary  \\\n",
              "0               Clarion Housing Group Ltd        £43264 - £59488 per annum   \n",
              "1                         MW Appointments                       Negotiable   \n",
              "2             Pearson Whiffin Recruitment  £23000 - £28000 per annum + DOE   \n",
              "3    Recruitment Solutions Folkestone Ltd            £30-40,000 dep on exp   \n",
              "4             Pearson Whiffin Recruitment          Up to £35,000 per annum   \n",
              "..                                    ...                              ...   \n",
              "103                    Randstad Education      £23,718 - £25,170 per annum   \n",
              "104                                  SS&C                                    \n",
              "105                 Recruitment Solutions      £30,000 - £35,000 per annum   \n",
              "106                Julie Rose Recruitment         £11.00 - £13.00 per hour   \n",
              "107                                Lorien      £70,000 - £85,000 per annum   \n",
              "\n",
              "                contract                        location  \\\n",
              "0    permanent,full-time  Central London, Greater London   \n",
              "1    permanent,full-time  City of London, Greater London   \n",
              "2    permanent,full-time              West Malling, Kent   \n",
              "3    permanent,full-time                   Ashford, Kent   \n",
              "4    permanent,full-time                Kings Hill, Kent   \n",
              "..                   ...                             ...   \n",
              "103            Permanent                         Swanley   \n",
              "104            Permanent                        Basildon   \n",
              "105            Permanent                 Tunbridge Wells   \n",
              "106            Temporary                       Sevenoaks   \n",
              "107            Permanent                         Bromley   \n",
              "\n",
              "                                               job_url  date_found  \\\n",
              "0                   https://jobsinkent.com/job/2423530  2022-10-31   \n",
              "1                   https://jobsinkent.com/job/2422053  2022-10-31   \n",
              "2                   https://jobsinkent.com/job/2331144  2022-10-31   \n",
              "3                   https://jobsinkent.com/job/2277249  2022-10-31   \n",
              "4                   https://jobsinkent.com/job/2424610  2022-10-31   \n",
              "..                                                 ...         ...   \n",
              "103  https://www.reed.co.uk/jobs/exams-data-officer...  2022-10-31   \n",
              "104  https://www.reed.co.uk/jobs/digital-product-ow...  2022-10-31   \n",
              "105  https://www.reed.co.uk/jobs/digital-analyst-da...  2022-10-31   \n",
              "106  https://www.reed.co.uk/jobs/temporary-database...  2022-10-31   \n",
              "107  https://www.reed.co.uk/jobs/sql-server-databas...  2022-10-31   \n",
              "\n",
              "              advertised_on  \n",
              "0     jobsinkent.com/search  \n",
              "1     jobsinkent.com/search  \n",
              "2     jobsinkent.com/search  \n",
              "3     jobsinkent.com/search  \n",
              "4     jobsinkent.com/search  \n",
              "..                      ...  \n",
              "103  https://www.reed.co.uk  \n",
              "104  https://www.reed.co.uk  \n",
              "105  https://www.reed.co.uk  \n",
              "106  https://www.reed.co.uk  \n",
              "107  https://www.reed.co.uk  \n",
              "\n",
              "[108 rows x 8 columns]"
            ],
            "text/html": [
              "\n",
              "  <div id=\"df-32dca010-db23-4e2b-ba5c-37d3a38045ed\">\n",
              "    <div class=\"colab-df-container\">\n",
              "      <div>\n",
              "<style scoped>\n",
              "    .dataframe tbody tr th:only-of-type {\n",
              "        vertical-align: middle;\n",
              "    }\n",
              "\n",
              "    .dataframe tbody tr th {\n",
              "        vertical-align: top;\n",
              "    }\n",
              "\n",
              "    .dataframe thead th {\n",
              "        text-align: right;\n",
              "    }\n",
              "</style>\n",
              "<table border=\"1\" class=\"dataframe\">\n",
              "  <thead>\n",
              "    <tr style=\"text-align: right;\">\n",
              "      <th></th>\n",
              "      <th>job_title</th>\n",
              "      <th>company</th>\n",
              "      <th>salary</th>\n",
              "      <th>contract</th>\n",
              "      <th>location</th>\n",
              "      <th>job_url</th>\n",
              "      <th>date_found</th>\n",
              "      <th>advertised_on</th>\n",
              "    </tr>\n",
              "  </thead>\n",
              "  <tbody>\n",
              "    <tr>\n",
              "      <th>0</th>\n",
              "      <td>Senior Data Analyst</td>\n",
              "      <td>Clarion Housing Group Ltd</td>\n",
              "      <td>£43264 - £59488 per annum</td>\n",
              "      <td>permanent,full-time</td>\n",
              "      <td>Central London, Greater London</td>\n",
              "      <td>https://jobsinkent.com/job/2423530</td>\n",
              "      <td>2022-10-31</td>\n",
              "      <td>jobsinkent.com/search</td>\n",
              "    </tr>\n",
              "    <tr>\n",
              "      <th>1</th>\n",
              "      <td>Data Analyst - Global Insurance Markets</td>\n",
              "      <td>MW Appointments</td>\n",
              "      <td>Negotiable</td>\n",
              "      <td>permanent,full-time</td>\n",
              "      <td>City of London, Greater London</td>\n",
              "      <td>https://jobsinkent.com/job/2422053</td>\n",
              "      <td>2022-10-31</td>\n",
              "      <td>jobsinkent.com/search</td>\n",
              "    </tr>\n",
              "    <tr>\n",
              "      <th>2</th>\n",
              "      <td>Data Analyst</td>\n",
              "      <td>Pearson Whiffin Recruitment</td>\n",
              "      <td>£23000 - £28000 per annum + DOE</td>\n",
              "      <td>permanent,full-time</td>\n",
              "      <td>West Malling, Kent</td>\n",
              "      <td>https://jobsinkent.com/job/2331144</td>\n",
              "      <td>2022-10-31</td>\n",
              "      <td>jobsinkent.com/search</td>\n",
              "    </tr>\n",
              "    <tr>\n",
              "      <th>3</th>\n",
              "      <td>Data Lead (Digital Marketing)</td>\n",
              "      <td>Recruitment Solutions Folkestone Ltd</td>\n",
              "      <td>£30-40,000 dep on exp</td>\n",
              "      <td>permanent,full-time</td>\n",
              "      <td>Ashford, Kent</td>\n",
              "      <td>https://jobsinkent.com/job/2277249</td>\n",
              "      <td>2022-10-31</td>\n",
              "      <td>jobsinkent.com/search</td>\n",
              "    </tr>\n",
              "    <tr>\n",
              "      <th>4</th>\n",
              "      <td>Data &amp; GDPR Officer</td>\n",
              "      <td>Pearson Whiffin Recruitment</td>\n",
              "      <td>Up to £35,000 per annum</td>\n",
              "      <td>permanent,full-time</td>\n",
              "      <td>Kings Hill, Kent</td>\n",
              "      <td>https://jobsinkent.com/job/2424610</td>\n",
              "      <td>2022-10-31</td>\n",
              "      <td>jobsinkent.com/search</td>\n",
              "    </tr>\n",
              "    <tr>\n",
              "      <th>...</th>\n",
              "      <td>...</td>\n",
              "      <td>...</td>\n",
              "      <td>...</td>\n",
              "      <td>...</td>\n",
              "      <td>...</td>\n",
              "      <td>...</td>\n",
              "      <td>...</td>\n",
              "      <td>...</td>\n",
              "    </tr>\n",
              "    <tr>\n",
              "      <th>103</th>\n",
              "      <td>Exams &amp; Data Officer - Bromley / Kent Borders ...</td>\n",
              "      <td>Randstad Education</td>\n",
              "      <td>£23,718 - £25,170 per annum</td>\n",
              "      <td>Permanent</td>\n",
              "      <td>Swanley</td>\n",
              "      <td>https://www.reed.co.uk/jobs/exams-data-officer...</td>\n",
              "      <td>2022-10-31</td>\n",
              "      <td>https://www.reed.co.uk</td>\n",
              "    </tr>\n",
              "    <tr>\n",
              "      <th>104</th>\n",
              "      <td>Digital Product Owner (Data Products)</td>\n",
              "      <td>SS&amp;C</td>\n",
              "      <td></td>\n",
              "      <td>Permanent</td>\n",
              "      <td>Basildon</td>\n",
              "      <td>https://www.reed.co.uk/jobs/digital-product-ow...</td>\n",
              "      <td>2022-10-31</td>\n",
              "      <td>https://www.reed.co.uk</td>\n",
              "    </tr>\n",
              "    <tr>\n",
              "      <th>105</th>\n",
              "      <td>Digital Analyst/Data Visualisation Executive- ...</td>\n",
              "      <td>Recruitment Solutions</td>\n",
              "      <td>£30,000 - £35,000 per annum</td>\n",
              "      <td>Permanent</td>\n",
              "      <td>Tunbridge Wells</td>\n",
              "      <td>https://www.reed.co.uk/jobs/digital-analyst-da...</td>\n",
              "      <td>2022-10-31</td>\n",
              "      <td>https://www.reed.co.uk</td>\n",
              "    </tr>\n",
              "    <tr>\n",
              "      <th>106</th>\n",
              "      <td>Temporary Database Administrator</td>\n",
              "      <td>Julie Rose Recruitment</td>\n",
              "      <td>£11.00 - £13.00 per hour</td>\n",
              "      <td>Temporary</td>\n",
              "      <td>Sevenoaks</td>\n",
              "      <td>https://www.reed.co.uk/jobs/temporary-database...</td>\n",
              "      <td>2022-10-31</td>\n",
              "      <td>https://www.reed.co.uk</td>\n",
              "    </tr>\n",
              "    <tr>\n",
              "      <th>107</th>\n",
              "      <td>SQL Server Database Developer</td>\n",
              "      <td>Lorien</td>\n",
              "      <td>£70,000 - £85,000 per annum</td>\n",
              "      <td>Permanent</td>\n",
              "      <td>Bromley</td>\n",
              "      <td>https://www.reed.co.uk/jobs/sql-server-databas...</td>\n",
              "      <td>2022-10-31</td>\n",
              "      <td>https://www.reed.co.uk</td>\n",
              "    </tr>\n",
              "  </tbody>\n",
              "</table>\n",
              "<p>108 rows × 8 columns</p>\n",
              "</div>\n",
              "      <button class=\"colab-df-convert\" onclick=\"convertToInteractive('df-32dca010-db23-4e2b-ba5c-37d3a38045ed')\"\n",
              "              title=\"Convert this dataframe to an interactive table.\"\n",
              "              style=\"display:none;\">\n",
              "        \n",
              "  <svg xmlns=\"http://www.w3.org/2000/svg\" height=\"24px\"viewBox=\"0 0 24 24\"\n",
              "       width=\"24px\">\n",
              "    <path d=\"M0 0h24v24H0V0z\" fill=\"none\"/>\n",
              "    <path d=\"M18.56 5.44l.94 2.06.94-2.06 2.06-.94-2.06-.94-.94-2.06-.94 2.06-2.06.94zm-11 1L8.5 8.5l.94-2.06 2.06-.94-2.06-.94L8.5 2.5l-.94 2.06-2.06.94zm10 10l.94 2.06.94-2.06 2.06-.94-2.06-.94-.94-2.06-.94 2.06-2.06.94z\"/><path d=\"M17.41 7.96l-1.37-1.37c-.4-.4-.92-.59-1.43-.59-.52 0-1.04.2-1.43.59L10.3 9.45l-7.72 7.72c-.78.78-.78 2.05 0 2.83L4 21.41c.39.39.9.59 1.41.59.51 0 1.02-.2 1.41-.59l7.78-7.78 2.81-2.81c.8-.78.8-2.07 0-2.86zM5.41 20L4 18.59l7.72-7.72 1.47 1.35L5.41 20z\"/>\n",
              "  </svg>\n",
              "      </button>\n",
              "      \n",
              "  <style>\n",
              "    .colab-df-container {\n",
              "      display:flex;\n",
              "      flex-wrap:wrap;\n",
              "      gap: 12px;\n",
              "    }\n",
              "\n",
              "    .colab-df-convert {\n",
              "      background-color: #E8F0FE;\n",
              "      border: none;\n",
              "      border-radius: 50%;\n",
              "      cursor: pointer;\n",
              "      display: none;\n",
              "      fill: #1967D2;\n",
              "      height: 32px;\n",
              "      padding: 0 0 0 0;\n",
              "      width: 32px;\n",
              "    }\n",
              "\n",
              "    .colab-df-convert:hover {\n",
              "      background-color: #E2EBFA;\n",
              "      box-shadow: 0px 1px 2px rgba(60, 64, 67, 0.3), 0px 1px 3px 1px rgba(60, 64, 67, 0.15);\n",
              "      fill: #174EA6;\n",
              "    }\n",
              "\n",
              "    [theme=dark] .colab-df-convert {\n",
              "      background-color: #3B4455;\n",
              "      fill: #D2E3FC;\n",
              "    }\n",
              "\n",
              "    [theme=dark] .colab-df-convert:hover {\n",
              "      background-color: #434B5C;\n",
              "      box-shadow: 0px 1px 3px 1px rgba(0, 0, 0, 0.15);\n",
              "      filter: drop-shadow(0px 1px 2px rgba(0, 0, 0, 0.3));\n",
              "      fill: #FFFFFF;\n",
              "    }\n",
              "  </style>\n",
              "\n",
              "      <script>\n",
              "        const buttonEl =\n",
              "          document.querySelector('#df-32dca010-db23-4e2b-ba5c-37d3a38045ed button.colab-df-convert');\n",
              "        buttonEl.style.display =\n",
              "          google.colab.kernel.accessAllowed ? 'block' : 'none';\n",
              "\n",
              "        async function convertToInteractive(key) {\n",
              "          const element = document.querySelector('#df-32dca010-db23-4e2b-ba5c-37d3a38045ed');\n",
              "          const dataTable =\n",
              "            await google.colab.kernel.invokeFunction('convertToInteractive',\n",
              "                                                     [key], {});\n",
              "          if (!dataTable) return;\n",
              "\n",
              "          const docLinkHtml = 'Like what you see? Visit the ' +\n",
              "            '<a target=\"_blank\" href=https://colab.research.google.com/notebooks/data_table.ipynb>data table notebook</a>'\n",
              "            + ' to learn more about interactive tables.';\n",
              "          element.innerHTML = '';\n",
              "          dataTable['output_type'] = 'display_data';\n",
              "          await google.colab.output.renderOutput(dataTable, element);\n",
              "          const docLink = document.createElement('div');\n",
              "          docLink.innerHTML = docLinkHtml;\n",
              "          element.appendChild(docLink);\n",
              "        }\n",
              "      </script>\n",
              "    </div>\n",
              "  </div>\n",
              "  "
            ]
          },
          "metadata": {}
        }
      ]
    },
    {
      "cell_type": "markdown",
      "source": [
        "This returns a **unique** list of recruiters and compaies who are advertiseing data roles"
      ],
      "metadata": {
        "id": "A_Ke9HwHMJ0C"
      }
    },
    {
      "cell_type": "code",
      "source": [
        "def find_company_lists():\n",
        "  data_jobs_employer_names = data_jobs_df.drop_duplicates(subset = \"company\") #data_jobs_df[\"company\"].unique()\n",
        "\n",
        "  #seperating out all recruitment companies from the list\n",
        "  companies_df = data_jobs_employer_names.drop( data_jobs_employer_names[ data_jobs_employer_names[\"company\"].str.contains(\"Recruit\")==True].index)\n",
        "\n",
        "  #This requires going through each company and deciding if they are a recruitment agency or not if they dont have 'Recruit' in their name and adding them to the list.\n",
        "  additional_recruiter_list = [\"Reed\",\"OnetoOne Personnel\",\"Huntress\",\"MW Appointments\",\"P3 Search & Selection\",\"Manpower - Ashford\",\"Morgan McKinley\",\"Brook Street\",\"McGregor Boyall\",\"SAGA\",\"Office Angels\",\"REED\",\n",
        "                            \"Commercial Services Interim & Executive Search\",\"Harnham\",\"Connect2Staff\",\"Senitor Associates\",\"Zorba Consulting Limited\",\"GerrardWhite\",\"Lorien\",\"Morgan Law\", \"Academics\",\"eFinancialCareers\",\n",
        "                            \"Commercial Services HR\", \"OBJECTIVE HR LTD\", ]\n",
        "  it_specialits = [\"Senitor Associates\",\"Zorba Consulting Limited\",\"GerrardWhite\",\"Lorien\",\"eFinancialCareers\"]\n",
        "\n",
        "  companies_df = companies_df.drop( companies_df[companies_df[\"company\"].isin(additional_recruiter_list) == True ].index)\n",
        "  companies_list = companies_df[\"company\"]\n",
        "\n",
        "  recruiters_df1 = data_jobs_employer_names.drop( data_jobs_employer_names[ data_jobs_employer_names[\"company\"].str.contains(\"Recruit\")==False].index) #drop 'Recruit' is not in name\n",
        "  recruiters_df2 = data_jobs_employer_names.drop( data_jobs_employer_names[data_jobs_employer_names[\"company\"].isin(additional_recruiter_list) == False ].index) #drop if company is not in 'additional_drop_list'\n",
        "\n",
        "  recruiters_df = recruiters_df1.append(recruiters_df2,ignore_index=True) #combine the two sets of lists\n",
        "  recruiters_list = recruiters_df[\"company\"]\n",
        "\n",
        "  return companies_list, recruiters_list\n",
        "\n",
        "companies_list, recruiters_list = find_company_lists()"
      ],
      "metadata": {
        "id": "BFpCe9WMMKEy"
      },
      "execution_count": 18,
      "outputs": []
    },
    {
      "cell_type": "code",
      "source": [
        "display(companies_list)"
      ],
      "metadata": {
        "colab": {
          "base_uri": "https://localhost:8080/",
          "height": 416
        },
        "id": "OYRHyX7YlFiK",
        "outputId": "ad11634c-0dfb-4cd7-9295-41be4a9c65b9"
      },
      "execution_count": 22,
      "outputs": [
        {
          "output_type": "display_data",
          "data": {
            "text/plain": [
              "0                 Clarion Housing Group Ltd\n",
              "5                           PW Construction\n",
              "10          Commercial Services Trading Ltd\n",
              "54                                Veolia UK\n",
              "55                               Premier IT\n",
              "56         Morgan Sindall Property Services\n",
              "57     IronmongeryDirect & ElectricalDirect\n",
              "62             Braundton Consulting Limited\n",
              "65              TELUS International AI Inc.\n",
              "66                              P&O Ferries\n",
              "67                Nigel Frank International\n",
              "70                                    Hatch\n",
              "72                           Shorterm Group\n",
              "74                       F&D Tech Solutions\n",
              "75                          Hastings Direct\n",
              "79                        Harris Federation\n",
              "80                                  Pontoon\n",
              "82                        Howells Solutions\n",
              "88                        Rutherford Briant\n",
              "94                              925HomeJobs\n",
              "103                      Randstad Education\n",
              "104                                    SS&C\n",
              "Name: company, dtype: object"
            ]
          },
          "metadata": {}
        }
      ]
    },
    {
      "cell_type": "markdown",
      "source": [
        "This takes the lists of unique compaies and recruiters and returns a DataFrame with **all** the roles they have advertised."
      ],
      "metadata": {
        "id": "NFXbvgXzWkoN"
      }
    },
    {
      "cell_type": "code",
      "source": [
        "def find_company_df():\n",
        "  company_df = data_jobs_df.drop( data_jobs_df[data_jobs_df[\"company\"].isin(recruiters_list) == True ].index) #drop if company is a recruiter\n",
        "  recruiters_df = data_jobs_df.drop( data_jobs_df[data_jobs_df[\"company\"].isin(companies_list) == True ].index) #drop if company is not a recruiter\n",
        "\n",
        "  #For readability.\n",
        "  company_df.reset_index(drop=True, inplace = True)\n",
        "  recruiters_df.reset_index(drop=True, inplace = True)\n",
        "\n",
        "  return company_df, recruiters_df\n",
        "\n",
        "company_df, recruiters_df = find_company_df()\n",
        "  "
      ],
      "metadata": {
        "id": "QlYMcg9iNht-"
      },
      "execution_count": 23,
      "outputs": []
    },
    {
      "cell_type": "markdown",
      "source": [
        "To download and save the DataFrames, uncomment save() and download() and run the cell"
      ],
      "metadata": {
        "id": "TT9h2KnWU7kJ"
      }
    },
    {
      "cell_type": "code",
      "source": [
        "#saveing files names of search based on current date.\n",
        "recruiters_fn = str(date_today)+\"_recruitment_company_df.csv\"\n",
        "company_fn = str(date_today)+\"_data_employeer_df.csv\"\n",
        "\n",
        "#creats a .csv file in colab (cloud?) NB: This does not save the .csv files to you PC, you need to download them first.\n",
        "def save():\n",
        "  recruiters_df.to_csv(recruiters_fn)\n",
        "  company_df.to_csv(company_fn)\n",
        "\n",
        "#downloads files to pc\n",
        "def download():\n",
        "  files.download(recruiters_fn)\n",
        "  files.download(company_fn)"
      ],
      "metadata": {
        "id": "_4JzYHo4PXAu"
      },
      "execution_count": 24,
      "outputs": []
    },
    {
      "cell_type": "markdown",
      "source": [
        "###Uncomment to save and download, commented by default."
      ],
      "metadata": {
        "id": "DRsunvMr2cbr"
      }
    },
    {
      "cell_type": "code",
      "source": [
        "#save()\n",
        "#download()"
      ],
      "metadata": {
        "id": "QhCI_tWI2cRG"
      },
      "execution_count": 25,
      "outputs": []
    }
  ]
}